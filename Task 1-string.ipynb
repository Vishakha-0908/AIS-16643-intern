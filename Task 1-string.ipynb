{
 "cells": [
  {
   "cell_type": "code",
   "execution_count": 1,
   "id": "a9d87dfa",
   "metadata": {},
   "outputs": [
    {
     "name": "stdout",
     "output_type": "stream",
     "text": [
      "Hello World\n"
     ]
    }
   ],
   "source": [
    "print(\"Hello World\")"
   ]
  },
  {
   "cell_type": "code",
   "execution_count": 2,
   "id": "06b0132f",
   "metadata": {},
   "outputs": [
    {
     "name": "stdout",
     "output_type": "stream",
     "text": [
      "Hello World\n"
     ]
    }
   ],
   "source": [
    "print('Hello World')"
   ]
  },
  {
   "cell_type": "code",
   "execution_count": 3,
   "id": "d125f06d",
   "metadata": {},
   "outputs": [
    {
     "name": "stdout",
     "output_type": "stream",
     "text": [
      "My name is 'Vishakha'\n"
     ]
    }
   ],
   "source": [
    "#quotes inside the quote\n",
    "print(\"My name is 'Vishakha'\")"
   ]
  },
  {
   "cell_type": "code",
   "execution_count": 4,
   "id": "a6b714e3",
   "metadata": {},
   "outputs": [
    {
     "name": "stdout",
     "output_type": "stream",
     "text": [
      "My name is \"Vishakha\"\n"
     ]
    }
   ],
   "source": [
    "print('My name is \"Vishakha\"')"
   ]
  },
  {
   "cell_type": "code",
   "execution_count": 5,
   "id": "2278b5b7",
   "metadata": {},
   "outputs": [
    {
     "data": {
      "text/plain": [
       "'name'"
      ]
     },
     "execution_count": 5,
     "metadata": {},
     "output_type": "execute_result"
    }
   ],
   "source": [
    "#assign string to variable\n",
    "n=\"name\"\n",
    "n"
   ]
  },
  {
   "cell_type": "code",
   "execution_count": 7,
   "id": "b93f17c1",
   "metadata": {},
   "outputs": [
    {
     "name": "stdout",
     "output_type": "stream",
     "text": [
      "Hi,\n",
      "I am Vishakha Pawar,\n",
      "From Satara.\n"
     ]
    }
   ],
   "source": [
    "#multiple strings\n",
    "a=\"\"\"Hi,\n",
    "I am Vishakha Pawar,\n",
    "From Satara.\"\"\"\n",
    "print(a)"
   ]
  },
  {
   "cell_type": "code",
   "execution_count": 9,
   "id": "bb36f30b",
   "metadata": {},
   "outputs": [
    {
     "name": "stdout",
     "output_type": "stream",
     "text": [
      ",\n"
     ]
    }
   ],
   "source": [
    "#strings are arrays\n",
    "a=\"Hello,dear!\"\n",
    "print(a[5])"
   ]
  },
  {
   "cell_type": "code",
   "execution_count": 11,
   "id": "7d22ab3b",
   "metadata": {},
   "outputs": [
    {
     "name": "stdout",
     "output_type": "stream",
     "text": [
      "c\n",
      "o\n",
      "l\n",
      "l\n",
      "e\n",
      "g\n",
      "e\n"
     ]
    }
   ],
   "source": [
    "#looping through a string\n",
    "for x in \"college\":\n",
    "  print(x)"
   ]
  },
  {
   "cell_type": "code",
   "execution_count": 12,
   "id": "9d25c0c7",
   "metadata": {},
   "outputs": [
    {
     "data": {
      "text/plain": [
       "8"
      ]
     },
     "execution_count": 12,
     "metadata": {},
     "output_type": "execute_result"
    }
   ],
   "source": [
    "#string length\n",
    "str=\"Vishakha\"\n",
    "len(str)"
   ]
  },
  {
   "cell_type": "code",
   "execution_count": 13,
   "id": "70d0dd50",
   "metadata": {},
   "outputs": [
    {
     "name": "stdout",
     "output_type": "stream",
     "text": [
      "True\n"
     ]
    }
   ],
   "source": [
    "#check strings\n",
    "str1=\"This is my laptop\"\n",
    "print(\"my\" in str1)"
   ]
  },
  {
   "cell_type": "code",
   "execution_count": 14,
   "id": "a4b8f238",
   "metadata": {},
   "outputs": [
    {
     "name": "stdout",
     "output_type": "stream",
     "text": [
      "False\n"
     ]
    }
   ],
   "source": [
    "print(\"hello\" in str1)"
   ]
  },
  {
   "cell_type": "code",
   "execution_count": 15,
   "id": "787428bb",
   "metadata": {},
   "outputs": [
    {
     "name": "stdout",
     "output_type": "stream",
     "text": [
      "Yes,'my' is present in the string\n"
     ]
    }
   ],
   "source": [
    "#use if stmt\n",
    "if \"my\" in str1:\n",
    "    print(\"Yes,'my' is present in the string\")"
   ]
  },
  {
   "cell_type": "code",
   "execution_count": 16,
   "id": "19a8087d",
   "metadata": {},
   "outputs": [
    {
     "name": "stdout",
     "output_type": "stream",
     "text": [
      "False\n"
     ]
    }
   ],
   "source": [
    "#check if not\n",
    "print(\"my\" not in str1)"
   ]
  },
  {
   "cell_type": "code",
   "execution_count": 19,
   "id": "cb7a6a97",
   "metadata": {},
   "outputs": [
    {
     "name": "stdout",
     "output_type": "stream",
     "text": [
      "'hello' is not present in the string\n"
     ]
    }
   ],
   "source": [
    "#use if stmt\n",
    "if \"hello\" not in str1:\n",
    "    print(\"'hello' is not present in the string\")"
   ]
  }
 ],
 "metadata": {
  "kernelspec": {
   "display_name": "Python 3 (ipykernel)",
   "language": "python",
   "name": "python3"
  },
  "language_info": {
   "codemirror_mode": {
    "name": "ipython",
    "version": 3
   },
   "file_extension": ".py",
   "mimetype": "text/x-python",
   "name": "python",
   "nbconvert_exporter": "python",
   "pygments_lexer": "ipython3",
   "version": "3.11.7"
  }
 },
 "nbformat": 4,
 "nbformat_minor": 5
}
