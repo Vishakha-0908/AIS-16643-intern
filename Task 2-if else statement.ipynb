{
 "cells": [
  {
   "cell_type": "markdown",
   "id": "212e02e7-edc4-4249-a17d-8aa49aaf056d",
   "metadata": {},
   "source": [
    "An \"if statement\" is written by using the if keyword.\n",
    "The else keyword catches anything which isn't caught by the preseding conditions."
   ]
  },
  {
   "cell_type": "code",
   "execution_count": 2,
   "id": "2be715cc-d8e8-4e94-bb58-6b1461601d8b",
   "metadata": {},
   "outputs": [
    {
     "name": "stdout",
     "output_type": "stream",
     "text": [
      "x is less than y\n"
     ]
    }
   ],
   "source": [
    "x=27\n",
    "y=38\n",
    "if x>y:\n",
    "    print(\"x is greater than y\")\n",
    "else:\n",
    "    print(\"x is less than y\")\n"
   ]
  },
  {
   "cell_type": "code",
   "execution_count": 3,
   "id": "065e0f3a-54fa-4324-9391-a56901d3ab75",
   "metadata": {},
   "outputs": [
    {
     "name": "stdout",
     "output_type": "stream",
     "text": [
      "both numbers are not equal\n"
     ]
    }
   ],
   "source": [
    "a=38\n",
    "b=92\n",
    "if x==y:\n",
    "    print(\"both no. are equal\")\n",
    "else:\n",
    "    print(\"both numbers are not equal\")"
   ]
  },
  {
   "cell_type": "code",
   "execution_count": 4,
   "id": "286f1963-2af1-4655-8462-c1abcd9b445b",
   "metadata": {},
   "outputs": [
    {
     "name": "stdout",
     "output_type": "stream",
     "text": [
      "Pass\n"
     ]
    }
   ],
   "source": [
    "percentage=88\n",
    "if percentage>=35:\n",
    "    print(\"Pass\")\n",
    "else:\n",
    "    print(\"Fail\")"
   ]
  },
  {
   "cell_type": "code",
   "execution_count": 5,
   "id": "b1f4e1ed-cfec-4c9e-aa95-2be3ceee49e5",
   "metadata": {},
   "outputs": [
    {
     "name": "stdin",
     "output_type": "stream",
     "text": [
      "27 3\n"
     ]
    },
    {
     "name": "stdout",
     "output_type": "stream",
     "text": [
      "no. is odd\n"
     ]
    }
   ],
   "source": [
    "#no. is odd or even\n",
    "input(x)\n",
    "if x%2==0:\n",
    "    print(\"no. is even\")\n",
    "else:\n",
    "    print(\"no. is odd\")"
   ]
  },
  {
   "cell_type": "code",
   "execution_count": 8,
   "id": "c7504b50-9831-4002-bc73-913b3284b1f0",
   "metadata": {},
   "outputs": [
    {
     "name": "stdout",
     "output_type": "stream",
     "text": [
      "Leap year\n"
     ]
    }
   ],
   "source": [
    "#year is leap or not\n",
    "year=2000\n",
    "if year%4==0:\n",
    "    print(\"Leap year\")\n",
    "else:\n",
    "    print(\"not leap year\")"
   ]
  },
  {
   "cell_type": "code",
   "execution_count": 9,
   "id": "0944185e-8ca6-4834-b3b6-02536f2296d5",
   "metadata": {},
   "outputs": [
    {
     "name": "stdout",
     "output_type": "stream",
     "text": [
      "No. is negative\n"
     ]
    }
   ],
   "source": [
    "#check no. is positive or negative\n",
    "n=-3\n",
    "if n>=0:\n",
    "    print(\"no. is positive\")\n",
    "else:\n",
    "    print(\"No. is negative\")"
   ]
  },
  {
   "cell_type": "code",
   "execution_count": 10,
   "id": "2436935b-a8c5-4e76-99bd-2d9f41cbc64a",
   "metadata": {},
   "outputs": [
    {
     "name": "stdout",
     "output_type": "stream",
     "text": [
      "You are eligible for vote\n"
     ]
    }
   ],
   "source": [
    "age=82\n",
    "if age>=18:\n",
    "    print(\"You are eligible for vote\")\n",
    "else:\n",
    "    print(\"You are not eligible for vote\")"
   ]
  },
  {
   "cell_type": "code",
   "execution_count": 13,
   "id": "fe14c562-294e-4a25-9c6e-486c9b666f96",
   "metadata": {},
   "outputs": [
    {
     "name": "stdout",
     "output_type": "stream",
     "text": [
      "consonent\n"
     ]
    }
   ],
   "source": [
    "#checking character is vowel or consonent\n",
    "char=\"v\"\n",
    "if char in \"a\" and \"e\" and \"i\" and \"o\" and \"u\":\n",
    "    print(\"vowel\")\n",
    "else:\n",
    "    print(\"consonent\")"
   ]
  },
  {
   "cell_type": "code",
   "execution_count": 16,
   "id": "45aca1ca-1a1c-4ac7-b5d1-551d6669bf4b",
   "metadata": {},
   "outputs": [
    {
     "name": "stdout",
     "output_type": "stream",
     "text": [
      "Not Right angled triangle \n"
     ]
    }
   ],
   "source": [
    "#checking if triangle is right angled triangle\n",
    "a=30\n",
    "b=30\n",
    "c=30\n",
    "if a==90 or b==90 or c==90:\n",
    "    print(\"Right angled triangle\")\n",
    "else:\n",
    "    print(\"Not Right angled triangle \")"
   ]
  },
  {
   "cell_type": "code",
   "execution_count": 18,
   "id": "790265f9-8448-4b7b-8ce5-de881ef44a98",
   "metadata": {},
   "outputs": [
    {
     "name": "stdout",
     "output_type": "stream",
     "text": [
      "x is largest\n"
     ]
    }
   ],
   "source": [
    "#checking largest number\n",
    "x=35\n",
    "y=2\n",
    "if x>y:\n",
    "    print(\"x is largest\")\n",
    "else:\n",
    "    print(\"y is largest\")"
   ]
  },
  {
   "cell_type": "code",
   "execution_count": 19,
   "id": "84eab43a-b601-4713-9a79-e10072c574bc",
   "metadata": {},
   "outputs": [
    {
     "name": "stdout",
     "output_type": "stream",
     "text": [
      "both words are not equal\n"
     ]
    }
   ],
   "source": [
    "a=\"principal\"\n",
    "b=\"principle\"\n",
    "if a==b:\n",
    "    print(\"both words are equal\")\n",
    "else:\n",
    "    print(\"both words are not equal\")"
   ]
  }
 ],
 "metadata": {
  "kernelspec": {
   "display_name": "Python 3 (ipykernel)",
   "language": "python",
   "name": "python3"
  },
  "language_info": {
   "codemirror_mode": {
    "name": "ipython",
    "version": 3
   },
   "file_extension": ".py",
   "mimetype": "text/x-python",
   "name": "python",
   "nbconvert_exporter": "python",
   "pygments_lexer": "ipython3",
   "version": "3.11.7"
  }
 },
 "nbformat": 4,
 "nbformat_minor": 5
}
