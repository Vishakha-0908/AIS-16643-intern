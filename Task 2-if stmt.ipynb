{
 "cells": [
  {
   "cell_type": "markdown",
   "id": "3c0f25ab-d22b-478a-863f-e29de900ba6c",
   "metadata": {},
   "source": [
    "Python supports the usual logical conditions from mathematics:\r",
    "\r\n",
    "Equals: a == b\r\n",
    "Not Equals: a != b\r\n",
    "Less than: a < b\r\n",
    "Less than or equal to: a <= b\r\n",
    "Greater than: a > b\r\n",
    "Greater than or equal to:\n",
    "These conditions can be used in several ways, most commonly in \"if statements\" and loops.\n",
    "An \"if statement\" is written by using the if keyword. a >= b"
   ]
  },
  {
   "cell_type": "code",
   "execution_count": 1,
   "id": "c9c8b29d-81e9-4e00-95b4-f6f26b7478d1",
   "metadata": {},
   "outputs": [
    {
     "name": "stdout",
     "output_type": "stream",
     "text": [
      "x is less than y\n"
     ]
    }
   ],
   "source": [
    "x=4\n",
    "y=5\n",
    "if x<y:\n",
    "    print(\"x is less than y\")"
   ]
  },
  {
   "cell_type": "code",
   "execution_count": 4,
   "id": "a5a6b6e8-3e09-49fe-9bea-5099786d066c",
   "metadata": {},
   "outputs": [
    {
     "name": "stdout",
     "output_type": "stream",
     "text": [
      "both numbers are not equal\n"
     ]
    }
   ],
   "source": [
    "a=45\n",
    "b=56\n",
    "if a!=b:\n",
    "    print(\"both numbers are not equal\")"
   ]
  },
  {
   "cell_type": "code",
   "execution_count": 5,
   "id": "01c0d8b6-8e7b-4ce7-b532-4afa3acb0075",
   "metadata": {},
   "outputs": [
    {
     "name": "stdout",
     "output_type": "stream",
     "text": [
      "both words are not equal\n"
     ]
    }
   ],
   "source": [
    "a=\"principal\"\n",
    "b=\"principle\"\n",
    "if a!=b:\n",
    "    print(\"both words are not equal\")"
   ]
  },
  {
   "cell_type": "code",
   "execution_count": 6,
   "id": "c073c5d2-7c10-47e1-90c5-7e6e4f514f9a",
   "metadata": {},
   "outputs": [
    {
     "name": "stdout",
     "output_type": "stream",
     "text": [
      "x is greater than y\n"
     ]
    }
   ],
   "source": [
    "x=876\n",
    "y=8.9\n",
    "if x>y:\n",
    "    print(\"x is greater than y\")"
   ]
  },
  {
   "cell_type": "code",
   "execution_count": 7,
   "id": "acaf4df1-037b-4bb8-8fa9-6a81528a8051",
   "metadata": {},
   "outputs": [
    {
     "name": "stdout",
     "output_type": "stream",
     "text": [
      "x is less than or equal to y\n"
     ]
    }
   ],
   "source": [
    "x=4\n",
    "y=4\n",
    "if x<=y:\n",
    "    print(\"x is less than or equal to y\")"
   ]
  },
  {
   "cell_type": "code",
   "execution_count": 8,
   "id": "3651de7a-d999-4f00-9b87-f0b2d224cb6f",
   "metadata": {},
   "outputs": [
    {
     "name": "stdout",
     "output_type": "stream",
     "text": [
      "First class with distinction\n"
     ]
    }
   ],
   "source": [
    "percentage=86\n",
    "if percentage>=75:\n",
    "    print(\"First class with distinction\")"
   ]
  },
  {
   "cell_type": "code",
   "execution_count": 9,
   "id": "265d3c5d-ff05-4764-9216-7386f5878308",
   "metadata": {},
   "outputs": [
    {
     "name": "stdout",
     "output_type": "stream",
     "text": [
      "First class\n"
     ]
    }
   ],
   "source": [
    "percentage=68\n",
    "if percentage<75 and percentage>=60:\n",
    "    print(\"First class\")"
   ]
  },
  {
   "cell_type": "code",
   "execution_count": 10,
   "id": "81fa2e68-2ab0-40f0-a670-ad3f3a0e86af",
   "metadata": {},
   "outputs": [
    {
     "name": "stdout",
     "output_type": "stream",
     "text": [
      "You can vote\n"
     ]
    }
   ],
   "source": [
    "age=55\n",
    "if age>=18:\n",
    "    print(\"You can vote\")"
   ]
  },
  {
   "cell_type": "code",
   "execution_count": 12,
   "id": "c6f51712-611a-4dca-b9ba-d3eff5220bde",
   "metadata": {},
   "outputs": [
    {
     "name": "stdout",
     "output_type": "stream",
     "text": [
      "both no. are equal\n"
     ]
    }
   ],
   "source": [
    "x=4\n",
    "y=4\n",
    "if x==y:\n",
    "    print(\"both no. are equal\")"
   ]
  },
  {
   "cell_type": "code",
   "execution_count": 13,
   "id": "76e1b5a6-f04c-45fa-adfb-0f41284f5a22",
   "metadata": {},
   "outputs": [
    {
     "name": "stdout",
     "output_type": "stream",
     "text": [
      "both words are equal\n"
     ]
    }
   ],
   "source": [
    "x=\"Hello\"\n",
    "y=\"Hello\"\n",
    "if x==y:\n",
    "    print(\"both words are equal\")"
   ]
  },
  {
   "cell_type": "code",
   "execution_count": 11,
   "id": "7b09f3ad-8f96-4567-8d56-31f4e85e597f",
   "metadata": {},
   "outputs": [
    {
     "name": "stdout",
     "output_type": "stream",
     "text": [
      "You can not vote before 18\n"
     ]
    }
   ],
   "source": [
    "age=10\n",
    "if age<18:\n",
    "    print(\"You can not vote before 18\")"
   ]
  }
 ],
 "metadata": {
  "kernelspec": {
   "display_name": "Python 3 (ipykernel)",
   "language": "python",
   "name": "python3"
  },
  "language_info": {
   "codemirror_mode": {
    "name": "ipython",
    "version": 3
   },
   "file_extension": ".py",
   "mimetype": "text/x-python",
   "name": "python",
   "nbconvert_exporter": "python",
   "pygments_lexer": "ipython3",
   "version": "3.11.7"
  }
 },
 "nbformat": 4,
 "nbformat_minor": 5
}
