{
 "cells": [
  {
   "cell_type": "code",
   "execution_count": 1,
   "id": "8c6bf978-262f-45a2-88a9-f6043ee22549",
   "metadata": {},
   "outputs": [
    {
     "name": "stdout",
     "output_type": "stream",
     "text": [
      "   calories  duration\n",
      "0       420        50\n",
      "1       380        40\n",
      "2       390        45\n"
     ]
    }
   ],
   "source": [
    "#Dataframe\n",
    "#What is a DataFrame?\n",
    "#A Pandas DataFrame is a 2 dimensional data structure, like a 2 dimensional array, or a table with rows and columns.\n",
    "import pandas as pd\n",
    "data = {\n",
    "  \"calories\": [420, 380, 390],\n",
    "  \"duration\": [50, 40, 45]\n",
    "}\n",
    "#load data into a DataFrame object:\n",
    "df = pd.DataFrame(data)\n",
    "print(df) "
   ]
  },
  {
   "cell_type": "code",
   "execution_count": 2,
   "id": "d7012ba7-827f-4c3f-98f5-a4d9e86f986f",
   "metadata": {},
   "outputs": [
    {
     "name": "stdout",
     "output_type": "stream",
     "text": [
      "calories    420\n",
      "duration     50\n",
      "Name: 0, dtype: int64\n"
     ]
    }
   ],
   "source": [
    "#Locate Row\n",
    "#As you can see from the result above, the DataFrame is like a table with rows and columns.\n",
    "#Pandas use the loc attribute to return one or more specified row(s)\n",
    "print(df.loc[0])\n"
   ]
  },
  {
   "cell_type": "code",
   "execution_count": 3,
   "id": "a2fce669-ed86-427d-95b6-a760fcc0ff57",
   "metadata": {},
   "outputs": [
    {
     "name": "stdout",
     "output_type": "stream",
     "text": [
      "   calories  duration\n",
      "0       420        50\n",
      "1       380        40\n"
     ]
    }
   ],
   "source": [
    "print(df.loc[[0, 1]])"
   ]
  },
  {
   "cell_type": "code",
   "execution_count": 4,
   "id": "b8663733-c77c-47d0-9743-f126d1ca9fae",
   "metadata": {},
   "outputs": [
    {
     "name": "stdout",
     "output_type": "stream",
     "text": [
      "      calories  duration\n",
      "day1       420        50\n",
      "day2       380        40\n",
      "day3       390        45\n"
     ]
    }
   ],
   "source": [
    "import pandas as pd\n",
    "data = {\n",
    "  \"calories\": [420, 380, 390],\n",
    "  \"duration\": [50, 40, 45]\n",
    "}\n",
    "df = pd.DataFrame(data, index = [\"day1\", \"day2\", \"day3\"])\n",
    "print(df) "
   ]
  },
  {
   "cell_type": "code",
   "execution_count": 5,
   "id": "b1c940c7-39c4-44ab-8b67-89b15bab4c34",
   "metadata": {},
   "outputs": [
    {
     "name": "stdout",
     "output_type": "stream",
     "text": [
      "calories    380\n",
      "duration     40\n",
      "Name: day2, dtype: int64\n"
     ]
    }
   ],
   "source": [
    "print(df.loc[\"day2\"])"
   ]
  },
  {
   "cell_type": "code",
   "execution_count": 6,
   "id": "4feab624-5925-4df8-a71f-d132b8c2c726",
   "metadata": {},
   "outputs": [],
   "source": [
    "#Load Files Into a DataFrame\n",
    "#If your data sets are stored in a file, Pandas can load them into a DataFrame.\n",
    "#import pandas as pd\n",
    "#df = pd.read_csv('data.csv')\n",
    "#print(df) "
   ]
  },
  {
   "cell_type": "code",
   "execution_count": 2,
   "id": "5cd69826-642b-4cf3-8e54-4d02074dfb6f",
   "metadata": {},
   "outputs": [
    {
     "name": "stdout",
     "output_type": "stream",
     "text": [
      "     CustomerID  Gender  Age  Annual Income (k$)  Spending Score (1-100)\n",
      "0             1    Male   19                  15                      39\n",
      "1             2    Male   21                  15                      81\n",
      "2             3  Female   20                  16                       6\n",
      "3             4  Female   23                  16                      77\n",
      "4             5  Female   31                  17                      40\n",
      "..          ...     ...  ...                 ...                     ...\n",
      "195         196  Female   35                 120                      79\n",
      "196         197  Female   45                 126                      28\n",
      "197         198    Male   32                 126                      74\n",
      "198         199    Male   32                 137                      18\n",
      "199         200    Male   30                 137                      83\n",
      "\n",
      "[200 rows x 5 columns]\n"
     ]
    }
   ],
   "source": [
    "import pandas as pd\n",
    "df=pd.read_excel('C:/Users/vansh/Desktop/Mall_Customers.xlsx')\n",
    "print(df)            "
   ]
  }
 ],
 "metadata": {
  "kernelspec": {
   "display_name": "Python 3 (ipykernel)",
   "language": "python",
   "name": "python3"
  },
  "language_info": {
   "codemirror_mode": {
    "name": "ipython",
    "version": 3
   },
   "file_extension": ".py",
   "mimetype": "text/x-python",
   "name": "python",
   "nbconvert_exporter": "python",
   "pygments_lexer": "ipython3",
   "version": "3.11.7"
  }
 },
 "nbformat": 4,
 "nbformat_minor": 5
}
