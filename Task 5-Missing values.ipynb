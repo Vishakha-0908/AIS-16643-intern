{
 "cells": [
  {
   "cell_type": "code",
   "execution_count": 1,
   "id": "a278dffa-8403-4572-8149-869b7e0e993f",
   "metadata": {},
   "outputs": [
    {
     "name": "stdout",
     "output_type": "stream",
     "text": [
      "     CustomerID  Gender   Age  Annual Income (k$)  Spending Score (1-100)\n",
      "0           1.0    Male  19.0                15.0                    39.0\n",
      "1           2.0    Male  21.0                15.0                    81.0\n",
      "2           3.0  Female  20.0                16.0                     6.0\n",
      "3           4.0  Female  23.0                16.0                    77.0\n",
      "4           5.0  Female  31.0                17.0                    40.0\n",
      "..          ...     ...   ...                 ...                     ...\n",
      "195       196.0  Female  35.0               120.0                    79.0\n",
      "196       197.0  Female  45.0               126.0                    28.0\n",
      "197       198.0    Male  32.0               126.0                    74.0\n",
      "198       199.0    Male  32.0               137.0                    18.0\n",
      "199       200.0    Male  30.0               137.0                    83.0\n",
      "\n",
      "[191 rows x 5 columns]\n"
     ]
    }
   ],
   "source": [
    "#Missing values\n",
    "#Remove Rows\n",
    "#One way to deal with empty cells is to remove rows that contain empty cells.\n",
    "#This is usually OK, since data sets can be very big, and removing a few rows will not have a big impact on the result.\n",
    "import pandas as pd\n",
    "data=pd.read_csv(\"C:/Users/vansh/Desktop/Mall_Customers.csv\")\n",
    "data\n",
    "\n",
    "new_df=data.dropna()\n",
    "print(new_df)"
   ]
  },
  {
   "cell_type": "code",
   "execution_count": 2,
   "id": "bcc35fed-8939-48be-930f-835789fa174f",
   "metadata": {},
   "outputs": [],
   "source": [
    "#By default, the dropna() method returns a new DataFrame, and will not change the original.\n",
    "#If you want to change the original DataFrame, use the inplace = True argument:"
   ]
  },
  {
   "cell_type": "code",
   "execution_count": 4,
   "id": "d6b554cd-3ea7-4be7-8e9a-2b74e0f45c51",
   "metadata": {},
   "outputs": [
    {
     "name": "stdout",
     "output_type": "stream",
     "text": [
      "     CustomerID  Gender   Age  Annual Income (k$)  Spending Score (1-100)\n",
      "0           1.0    Male  19.0                15.0                    39.0\n",
      "1           2.0    Male  21.0                15.0                    81.0\n",
      "2           3.0  Female  20.0                16.0                     6.0\n",
      "3           4.0  Female  23.0                16.0                    77.0\n",
      "4           5.0  Female  31.0                17.0                    40.0\n",
      "5           6.0  Female  22.0                17.0                    76.0\n",
      "6           7.0  Female  35.0                18.0                     6.0\n",
      "7           8.0  Female  23.0                18.0                    94.0\n",
      "8           9.0    Male  64.0                19.0                     3.0\n",
      "9          10.0  Female  30.0                19.0                    72.0\n",
      "10         11.0    Male  67.0                19.0                    14.0\n",
      "11         12.0  Female  35.0                19.0                    99.0\n",
      "12         13.0  Female  58.0                20.0                    15.0\n",
      "13         14.0  Female  24.0                20.0                    77.0\n",
      "14         15.0    Male  37.0                20.0                    13.0\n",
      "15         16.0    Male  22.0                20.0                    79.0\n",
      "16         17.0  Female  35.0                21.0                    35.0\n",
      "17         18.0    Male  20.0                21.0                    66.0\n",
      "18         19.0    Male  52.0                23.0                    29.0\n",
      "19         20.0  Female  35.0                23.0                    98.0\n",
      "29         30.0  Female  23.0                29.0                    87.0\n",
      "30         31.0    Male  60.0                30.0                     4.0\n",
      "31         32.0  Female  21.0                30.0                    73.0\n",
      "32         33.0    Male  53.0                33.0                     4.0\n",
      "33         34.0    Male  18.0                33.0                    92.0\n",
      "34         35.0  Female  49.0                33.0                    14.0\n",
      "35         36.0  Female  21.0                33.0                    81.0\n",
      "36         37.0  Female  42.0                34.0                    17.0\n",
      "37         38.0  Female  30.0                34.0                    73.0\n",
      "38         39.0  Female  36.0                37.0                    26.0\n",
      "39         40.0  Female  20.0                37.0                    75.0\n",
      "40         41.0  Female  65.0                38.0                    35.0\n",
      "41         42.0    Male  24.0                38.0                    92.0\n",
      "42         43.0    Male  48.0                39.0                    36.0\n",
      "43         44.0  Female  31.0                39.0                    61.0\n",
      "44         45.0  Female  49.0                39.0                    28.0\n",
      "45         46.0  Female  24.0                39.0                    65.0\n",
      "46         47.0  Female  50.0                40.0                    55.0\n",
      "47         48.0  Female  27.0                40.0                    47.0\n",
      "48         49.0  Female  29.0                40.0                    42.0\n",
      "49         50.0  Female  31.0                40.0                    42.0\n",
      "50         51.0  Female  49.0                42.0                    52.0\n",
      "51         52.0    Male  33.0                42.0                    60.0\n",
      "52         53.0  Female  31.0                43.0                    54.0\n",
      "53         54.0    Male  59.0                43.0                    60.0\n",
      "54         55.0  Female  50.0                43.0                    45.0\n",
      "55         56.0    Male  47.0                43.0                    41.0\n",
      "56         57.0  Female  51.0                44.0                    50.0\n",
      "57         58.0    Male  69.0                44.0                    46.0\n",
      "58         59.0  Female  27.0                46.0                    51.0\n",
      "59         60.0    Male  53.0                46.0                    46.0\n",
      "60         61.0    Male  70.0                46.0                    56.0\n",
      "61         62.0    Male  19.0                46.0                    55.0\n",
      "62         63.0  Female  67.0                47.0                    52.0\n",
      "63         64.0  Female  54.0                47.0                    59.0\n",
      "64         65.0    Male  63.0                48.0                    51.0\n",
      "65         66.0    Male  18.0                48.0                    59.0\n",
      "66         67.0  Female  43.0                48.0                    50.0\n",
      "67         68.0  Female  68.0                48.0                    48.0\n",
      "68         69.0    Male  19.0                48.0                    59.0\n",
      "69         70.0  Female  32.0                48.0                    47.0\n",
      "70         71.0    Male  70.0                49.0                    55.0\n",
      "71         72.0  Female  47.0                49.0                    42.0\n",
      "72         73.0  Female  60.0                50.0                    49.0\n",
      "73         74.0  Female  60.0                50.0                    56.0\n",
      "74         75.0    Male  59.0                54.0                    47.0\n",
      "75         76.0    Male  26.0                54.0                    54.0\n",
      "76         77.0  Female  45.0                54.0                    53.0\n",
      "77         78.0    Male  40.0                54.0                    48.0\n",
      "78         79.0  Female  23.0                54.0                    52.0\n",
      "79         80.0  Female  49.0                54.0                    42.0\n",
      "80         81.0    Male  57.0                54.0                    51.0\n",
      "81         82.0    Male  38.0                54.0                    55.0\n",
      "82         83.0    Male  67.0                54.0                    41.0\n",
      "83         84.0  Female  46.0                54.0                    44.0\n",
      "84         85.0  Female  21.0                54.0                    57.0\n",
      "85         86.0    Male  48.0                54.0                    46.0\n",
      "86         87.0  Female  55.0                57.0                    58.0\n",
      "87         88.0  Female  22.0                57.0                    55.0\n",
      "88         89.0  Female  34.0                58.0                    60.0\n",
      "89         90.0  Female  50.0                58.0                    46.0\n",
      "90         91.0  Female  68.0                59.0                    55.0\n",
      "91         92.0    Male  18.0                59.0                    41.0\n",
      "92         93.0    Male  48.0                60.0                    49.0\n",
      "93         94.0  Female  40.0                60.0                    40.0\n",
      "94         95.0  Female  32.0                60.0                    42.0\n",
      "95         96.0    Male  24.0                60.0                    52.0\n",
      "96         97.0  Female  47.0                60.0                    47.0\n",
      "97         98.0  Female  27.0                60.0                    50.0\n",
      "98         99.0    Male  48.0                61.0                    42.0\n",
      "99        100.0    Male  20.0                61.0                    49.0\n",
      "100       101.0  Female  23.0                62.0                    41.0\n",
      "101       102.0  Female  49.0                62.0                    48.0\n",
      "102       103.0    Male  67.0                62.0                    59.0\n",
      "103       104.0    Male  26.0                62.0                    55.0\n",
      "104       105.0    Male  49.0                62.0                    56.0\n",
      "105       106.0  Female  21.0                62.0                    42.0\n",
      "106       107.0  Female  66.0                63.0                    50.0\n",
      "107       108.0    Male  54.0                63.0                    46.0\n",
      "108       109.0    Male  68.0                63.0                    43.0\n",
      "109       110.0    Male  66.0                63.0                    48.0\n",
      "110       111.0    Male  65.0                63.0                    52.0\n",
      "111       112.0  Female  19.0                63.0                    54.0\n",
      "112       113.0  Female  38.0                64.0                    42.0\n",
      "113       114.0    Male  19.0                64.0                    46.0\n",
      "114       115.0  Female  18.0                65.0                    48.0\n",
      "115       116.0  Female  19.0                65.0                    50.0\n",
      "116       117.0  Female  63.0                65.0                    43.0\n",
      "117       118.0  Female  49.0                65.0                    59.0\n",
      "118       119.0  Female  51.0                67.0                    43.0\n",
      "119       120.0  Female  50.0                67.0                    57.0\n",
      "120       121.0    Male  27.0                67.0                    56.0\n",
      "121       122.0  Female  38.0                67.0                    40.0\n",
      "122       123.0  Female  40.0                69.0                    58.0\n",
      "123       124.0    Male  39.0                69.0                    91.0\n",
      "124       125.0  Female  23.0                70.0                    29.0\n",
      "125       126.0  Female  31.0                70.0                    77.0\n",
      "126       127.0    Male  43.0                71.0                    35.0\n",
      "127       128.0    Male  40.0                71.0                    95.0\n",
      "128       129.0    Male  59.0                71.0                    11.0\n",
      "129       130.0    Male  38.0                71.0                    75.0\n",
      "130       131.0    Male  47.0                71.0                     9.0\n",
      "131       132.0    Male  39.0                71.0                    75.0\n",
      "132       133.0  Female  25.0                72.0                    34.0\n",
      "133       134.0  Female  31.0                72.0                    71.0\n",
      "134       135.0    Male  20.0                73.0                     5.0\n",
      "135       136.0  Female  29.0                73.0                    88.0\n",
      "136       137.0  Female  44.0                73.0                     7.0\n",
      "137       138.0    Male  32.0                73.0                    73.0\n",
      "138       139.0    Male  19.0                74.0                    10.0\n",
      "139       140.0  Female  35.0                74.0                    72.0\n",
      "140       141.0  Female  57.0                75.0                     5.0\n",
      "141       142.0    Male  32.0                75.0                    93.0\n",
      "142       143.0  Female  28.0                76.0                    40.0\n",
      "143       144.0  Female  32.0                76.0                    87.0\n",
      "144       145.0    Male  25.0                77.0                    12.0\n",
      "145       146.0    Male  28.0                77.0                    97.0\n",
      "146       147.0    Male  48.0                77.0                    36.0\n",
      "147       148.0  Female  32.0                77.0                    74.0\n",
      "148       149.0  Female  34.0                78.0                    22.0\n",
      "149       150.0    Male  34.0                78.0                    90.0\n",
      "150       151.0    Male  43.0                78.0                    17.0\n",
      "151       152.0    Male  39.0                78.0                    88.0\n",
      "152       153.0  Female  44.0                78.0                    20.0\n",
      "153       154.0  Female  38.0                78.0                    76.0\n",
      "154       155.0  Female  47.0                78.0                    16.0\n",
      "155       156.0  Female  27.0                78.0                    89.0\n",
      "156       157.0    Male  37.0                78.0                     1.0\n",
      "157       158.0  Female  30.0                78.0                    78.0\n",
      "158       159.0    Male  34.0                78.0                     1.0\n",
      "159       160.0  Female  30.0                78.0                    73.0\n",
      "160       161.0  Female  56.0                79.0                    35.0\n",
      "161       162.0  Female  29.0                79.0                    83.0\n",
      "162       163.0    Male  19.0                81.0                     5.0\n",
      "163       164.0  Female  31.0                81.0                    93.0\n",
      "164       165.0    Male  50.0                85.0                    26.0\n",
      "165       166.0  Female  36.0                85.0                    75.0\n",
      "166       167.0    Male  42.0                86.0                    20.0\n",
      "167       168.0  Female  33.0                86.0                    95.0\n",
      "168       169.0  Female  36.0                87.0                    27.0\n",
      "169       170.0    Male  32.0                87.0                    63.0\n",
      "170       171.0    Male  40.0                87.0                    13.0\n",
      "171       172.0    Male  28.0                87.0                    75.0\n",
      "172       173.0    Male  36.0                87.0                    10.0\n",
      "173       174.0    Male  36.0                87.0                    92.0\n",
      "174       175.0  Female  52.0                88.0                    13.0\n",
      "175       176.0  Female  30.0                88.0                    86.0\n",
      "176       177.0    Male  58.0                88.0                    15.0\n",
      "177       178.0    Male  27.0                88.0                    69.0\n",
      "178       179.0    Male  59.0                93.0                    14.0\n",
      "179       180.0    Male  35.0                93.0                    90.0\n",
      "180       181.0  Female  37.0                97.0                    32.0\n",
      "181       182.0  Female  32.0                97.0                    86.0\n",
      "182       183.0    Male  46.0                98.0                    15.0\n",
      "183       184.0  Female  29.0                98.0                    88.0\n",
      "184       185.0  Female  41.0                99.0                    39.0\n",
      "185       186.0    Male  30.0                99.0                    97.0\n",
      "186       187.0  Female  54.0               101.0                    24.0\n",
      "187       188.0    Male  28.0               101.0                    68.0\n",
      "188       189.0  Female  41.0               103.0                    17.0\n",
      "189       190.0  Female  36.0               103.0                    85.0\n",
      "190       191.0  Female  34.0               103.0                    23.0\n",
      "191       192.0  Female  32.0               103.0                    69.0\n",
      "192       193.0    Male  33.0               113.0                     8.0\n",
      "193       194.0  Female  38.0               113.0                    91.0\n",
      "194       195.0  Female  47.0               120.0                    16.0\n",
      "195       196.0  Female  35.0               120.0                    79.0\n",
      "196       197.0  Female  45.0               126.0                    28.0\n",
      "197       198.0    Male  32.0               126.0                    74.0\n",
      "198       199.0    Male  32.0               137.0                    18.0\n",
      "199       200.0    Male  30.0               137.0                    83.0\n"
     ]
    }
   ],
   "source": [
    "#Remove all rows with NULL values:\n",
    "\n",
    "import pandas as pd\n",
    "\n",
    "df = pd.read_csv(\"C:/Users/vansh/Desktop/Mall_Customers.csv\")\n",
    "\n",
    "df.dropna(inplace = True)\n",
    "\n",
    "print(df.to_string())"
   ]
  },
  {
   "cell_type": "code",
   "execution_count": 5,
   "id": "7ac006c4-e462-4ce1-be29-b00eb9742a12",
   "metadata": {},
   "outputs": [
    {
     "name": "stdout",
     "output_type": "stream",
     "text": [
      "None\n"
     ]
    }
   ],
   "source": [
    "#Replace Empty Values\n",
    "#Another way of dealing with empty cells is to insert a new value instead.\n",
    "#This way you do not have to delete entire rows just because of some empty cells.\n",
    "#The fillna() method allows us to replace empty cells with a value:\n",
    "import pandas as pd\n",
    "\n",
    "df = pd.read_csv(\"C:/Users/vansh/Desktop/Mall_Customers.csv\")\n",
    "\n",
    "nw=df.fillna(130, inplace = True)\n",
    "print(nw)"
   ]
  },
  {
   "cell_type": "code",
   "execution_count": 7,
   "id": "457d52fc-3561-4e5b-aa03-330ac980d2e0",
   "metadata": {},
   "outputs": [
    {
     "name": "stdout",
     "output_type": "stream",
     "text": [
      "None\n"
     ]
    }
   ],
   "source": [
    "import pandas as pd\n",
    "\n",
    "df = pd.read_csv(\"C:/Users/vansh/Desktop/Mall_Customers.csv\")\n",
    "\n",
    "new=df[\"Gender\"].fillna(130, inplace = True)\n",
    "print(new)"
   ]
  },
  {
   "cell_type": "code",
   "execution_count": 8,
   "id": "f8ce7e85-9462-418a-9cf1-4e035d6ce1f0",
   "metadata": {},
   "outputs": [],
   "source": [
    "import pandas as pd\n",
    "\n",
    "df = pd.read_csv(\"C:/Users/vansh/Desktop/Mall_Customers.csv\")\n",
    "\n",
    "x = df[\"Age\"].mean()\n",
    "\n",
    "df[\"Age\"].fillna(x, inplace = True)\n"
   ]
  },
  {
   "cell_type": "code",
   "execution_count": 9,
   "id": "9ab5b33a-96d8-4896-b7e4-d0fc52304d41",
   "metadata": {},
   "outputs": [],
   "source": [
    "import pandas as pd\n",
    "\n",
    "df = pd.read_csv(\"C:/Users/vansh/Desktop/Mall_Customers.csv\")\n",
    "\n",
    "x = df[\"Age\"].median()\n",
    "\n",
    "df[\"Age\"].fillna(x, inplace = True)\n"
   ]
  },
  {
   "cell_type": "code",
   "execution_count": 10,
   "id": "dd3e3247-83a8-4081-acc7-7d1e0515ecf5",
   "metadata": {},
   "outputs": [],
   "source": [
    "import pandas as pd\n",
    "\n",
    "df = pd.read_csv(\"C:/Users/vansh/Desktop/Mall_Customers.csv\")\n",
    "\n",
    "x = df[\"Age\"].mode()[0]\n",
    "\n",
    "df[\"Age\"].fillna(x, inplace = True)\n"
   ]
  },
  {
   "cell_type": "code",
   "execution_count": 11,
   "id": "b77382ac-8db8-4ee2-bfb2-282043856cba",
   "metadata": {},
   "outputs": [
    {
     "name": "stdout",
     "output_type": "stream",
     "text": [
      "       A      B      C\n",
      "0  False  False  False\n",
      "1  False   True  False\n",
      "2   True   True  False\n",
      "3  False  False  False\n"
     ]
    }
   ],
   "source": [
    "import pandas as pd\n",
    "import numpy as np\n",
    "\n",
    "# Create a DataFrame with some missing values\n",
    "data = {\n",
    "    'A': [1, 2, np.nan, 4],\n",
    "    'B': [5, np.nan, np.nan, 8],\n",
    "    'C': [9, 10, 11, 12]\n",
    "}\n",
    "df = pd.DataFrame(data)\n",
    "\n",
    "# Check for missing values\n",
    "missing_values = df.isna()  # or df.isnull()\n",
    "print(missing_values)"
   ]
  },
  {
   "cell_type": "code",
   "execution_count": 12,
   "id": "09292ee2-2f39-4dd0-a131-88de9041944f",
   "metadata": {},
   "outputs": [
    {
     "name": "stdout",
     "output_type": "stream",
     "text": [
      "     A    B   C\n",
      "0  1.0  5.0   9\n",
      "3  4.0  8.0  12\n"
     ]
    }
   ],
   "source": [
    "import pandas as pd\n",
    "import numpy as np\n",
    "\n",
    "# Create a DataFrame with some missing values\n",
    "data = {\n",
    "    'A': [1, 2, np.nan, 4],\n",
    "    'B': [5, np.nan, np.nan, 8],\n",
    "    'C': [9, 10, 11, 12]\n",
    "}\n",
    "df = pd.DataFrame(data)\n",
    "\n",
    "# Drop rows with any missing values\n",
    "df_dropped_rows = df.dropna()\n",
    "print(df_dropped_rows)"
   ]
  },
  {
   "cell_type": "code",
   "execution_count": 13,
   "id": "362e5589-00fe-4560-8d91-3b09d1b24284",
   "metadata": {},
   "outputs": [
    {
     "name": "stdout",
     "output_type": "stream",
     "text": [
      "    C\n",
      "0   9\n",
      "1  10\n",
      "2  11\n",
      "3  12\n"
     ]
    }
   ],
   "source": [
    "# Drop columns with any missing values\n",
    "df_dropped_columns = df.dropna(axis=1)\n",
    "print(df_dropped_columns)"
   ]
  },
  {
   "cell_type": "code",
   "execution_count": 14,
   "id": "12c372e5-4c02-4062-8df3-a526626d1d38",
   "metadata": {},
   "outputs": [
    {
     "name": "stdout",
     "output_type": "stream",
     "text": [
      "     A    B     C\n",
      "0  1.0  5.0   9.0\n",
      "3  4.0  8.0  12.0\n"
     ]
    }
   ],
   "source": [
    "# Create a DataFrame with some rows having all NaN values\n",
    "data_with_all_nan_rows = {\n",
    "    'A': [1, np.nan, np.nan, 4],\n",
    "    'B': [5, np.nan, np.nan, 8],\n",
    "    'C': [9, np.nan, np.nan, 12]\n",
    "}\n",
    "df_with_all_nan_rows = pd.DataFrame(data_with_all_nan_rows)\n",
    "\n",
    "# Drop rows where all values are missing\n",
    "df_dropped_all_nan_rows = df_with_all_nan_rows.dropna(how='all')\n",
    "print(df_dropped_all_nan_rows)"
   ]
  },
  {
   "cell_type": "code",
   "execution_count": 15,
   "id": "87b20bac-8b8c-42b2-b4c3-1a85d1cd4fa6",
   "metadata": {},
   "outputs": [
    {
     "name": "stdout",
     "output_type": "stream",
     "text": [
      "     A    B     C\n",
      "0  1.0  5.0   9.0\n",
      "1  NaN  NaN   NaN\n",
      "2  NaN  NaN   NaN\n",
      "3  4.0  8.0  12.0\n"
     ]
    }
   ],
   "source": [
    "# Drop columns where all values are missing\n",
    "df_dropped_all_nan_columns = df_with_all_nan_rows.dropna(how='all', axis=1)\n",
    "print(df_dropped_all_nan_columns)"
   ]
  },
  {
   "cell_type": "code",
   "execution_count": 16,
   "id": "d1f05d2f-54de-41a2-8ca5-b844aacbe742",
   "metadata": {},
   "outputs": [
    {
     "name": "stdout",
     "output_type": "stream",
     "text": [
      "     A    B   C\n",
      "0  1.0  5.0   9\n",
      "1  2.0  0.0  10\n",
      "2  0.0  0.0  11\n",
      "3  4.0  8.0  12\n"
     ]
    }
   ],
   "source": [
    "import pandas as pd\n",
    "import numpy as np\n",
    "\n",
    "# Create a DataFrame with some missing values\n",
    "data = {\n",
    "    'A': [1, 2, np.nan, 4],\n",
    "    'B': [5, np.nan, np.nan, 8],\n",
    "    'C': [9, 10, 11, 12]\n",
    "}\n",
    "df = pd.DataFrame(data)\n",
    "\n",
    "# Fill NaNs with a specific value (e.g., 0)\n",
    "df_filled = df.fillna(0)\n",
    "print(df_filled)"
   ]
  },
  {
   "cell_type": "code",
   "execution_count": 17,
   "id": "e94c57c4-4fe7-4bfd-b388-2b1ac7e1a65e",
   "metadata": {},
   "outputs": [
    {
     "name": "stdout",
     "output_type": "stream",
     "text": [
      "          A    B   C\n",
      "0  1.000000  5.0   9\n",
      "1  2.000000  6.5  10\n",
      "2  2.333333  6.5  11\n",
      "3  4.000000  8.0  12\n",
      "     A    B   C\n",
      "0  1.0  5.0   9\n",
      "1  2.0  6.5  10\n",
      "2  2.0  6.5  11\n",
      "3  4.0  8.0  12\n",
      "     A    B   C\n",
      "0  1.0  5.0   9\n",
      "1  2.0  5.0  10\n",
      "2  1.0  5.0  11\n",
      "3  4.0  8.0  12\n"
     ]
    }
   ],
   "source": [
    "# Fill NaNs with the mean of the column\n",
    "df_filled_mean = df.fillna(df.mean())\n",
    "print(df_filled_mean)\n",
    "\n",
    "# Fill NaNs with the median of the column\n",
    "df_filled_median = df.fillna(df.median())\n",
    "print(df_filled_median)\n",
    "\n",
    "# Fill NaNs with the mode of the column (mode returns a DataFrame)\n",
    "df_filled_mode = df.fillna(df.mode().iloc[0])\n",
    "print(df_filled_mode)"
   ]
  },
  {
   "cell_type": "code",
   "execution_count": null,
   "id": "6a3cd9db-6ab2-4ed2-a51b-29ecd30fddb8",
   "metadata": {},
   "outputs": [],
   "source": []
  }
 ],
 "metadata": {
  "kernelspec": {
   "display_name": "Python 3 (ipykernel)",
   "language": "python",
   "name": "python3"
  },
  "language_info": {
   "codemirror_mode": {
    "name": "ipython",
    "version": 3
   },
   "file_extension": ".py",
   "mimetype": "text/x-python",
   "name": "python",
   "nbconvert_exporter": "python",
   "pygments_lexer": "ipython3",
   "version": "3.11.7"
  }
 },
 "nbformat": 4,
 "nbformat_minor": 5
}
