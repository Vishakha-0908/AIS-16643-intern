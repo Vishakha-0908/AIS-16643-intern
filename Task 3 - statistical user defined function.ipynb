{
 "cells": [
  {
   "cell_type": "code",
   "execution_count": 3,
   "id": "5548600c-3e92-479b-a63b-b31382d7acd9",
   "metadata": {},
   "outputs": [
    {
     "name": "stdout",
     "output_type": "stream",
     "text": [
      "Mean= 40.125\n"
     ]
    }
   ],
   "source": [
    "#statistical user defined function\n",
    "#1.\n",
    "import statistics\n",
    "def cal_mean(data):\n",
    "    return statistics.mean(data)\n",
    "data=[29,44,64,33,88,3,15,45]\n",
    "mean_value=cal_mean(data)\n",
    "print(\"Mean=\",mean_value)"
   ]
  },
  {
   "cell_type": "code",
   "execution_count": 6,
   "id": "3cec5016-c59a-495b-8802-1cb1958c731c",
   "metadata": {},
   "outputs": [
    {
     "name": "stdout",
     "output_type": "stream",
     "text": [
      "Median= 38.5\n"
     ]
    }
   ],
   "source": [
    "#2.\n",
    "import statistics\n",
    "def cal_median(data):\n",
    "    return statistics.median(data)\n",
    "data=[29,44,64,33,88,3,15,45]\n",
    "median_value=cal_median(data)\n",
    "print(\"Median=\",median_value)"
   ]
  },
  {
   "cell_type": "code",
   "execution_count": 8,
   "id": "ef489a76-5170-4987-b404-cb8863371b36",
   "metadata": {},
   "outputs": [
    {
     "name": "stdout",
     "output_type": "stream",
     "text": [
      "Mode= 44\n"
     ]
    }
   ],
   "source": [
    "#3.\n",
    "import statistics\n",
    "def cal_mode(data):\n",
    "    return statistics.mode(data)\n",
    "data=[29,44,64,33,88,3,15,45,44]\n",
    "mode_value=cal_mode(data)\n",
    "print(\"Mode=\",mode_value)"
   ]
  },
  {
   "cell_type": "code",
   "execution_count": 10,
   "id": "58266feb-d851-4b2a-9b1c-3241856b6d6b",
   "metadata": {},
   "outputs": [
    {
     "name": "stdout",
     "output_type": "stream",
     "text": [
      "Standard deviation= 26.95200761141393\n"
     ]
    }
   ],
   "source": [
    "#4.\n",
    "import statistics\n",
    "def cal_std_deviation(data):\n",
    "    return statistics.stdev(data)\n",
    "data=[29,44,64,33,88,3,15,45]\n",
    "std_deviation_value=cal_std_deviation(data)\n",
    "print(\"Standard deviation=\",std_deviation_value)"
   ]
  },
  {
   "cell_type": "code",
   "execution_count": 11,
   "id": "2629ce76-243b-4c3a-9f22-f2934caccbd9",
   "metadata": {},
   "outputs": [
    {
     "name": "stdout",
     "output_type": "stream",
     "text": [
      "Variance= 726.4107142857143\n"
     ]
    }
   ],
   "source": [
    "#5.\n",
    "import statistics\n",
    "def cal_variance(data):\n",
    "    return statistics.variance(data)\n",
    "data=[29,44,64,33,88,3,15,45]\n",
    "var_value=cal_variance(data)\n",
    "print(\"Variance=\",var_value)"
   ]
  },
  {
   "cell_type": "code",
   "execution_count": 12,
   "id": "249b99d7-3f83-4a81-b1c0-8b1de650b431",
   "metadata": {},
   "outputs": [
    {
     "name": "stdout",
     "output_type": "stream",
     "text": [
      "Range= 85\n"
     ]
    }
   ],
   "source": [
    "#6.\n",
    "import statistics\n",
    "def cal_range(data):\n",
    "    return max(data)-min(data)\n",
    "data=[29,44,64,33,88,3,15,45]\n",
    "range=cal_range(data)\n",
    "print(\"Range=\",range)"
   ]
  },
  {
   "cell_type": "code",
   "execution_count": 13,
   "id": "a9bc9b6e-840c-4248-9f75-6ddf1d52d842",
   "metadata": {},
   "outputs": [
    {
     "name": "stdout",
     "output_type": "stream",
     "text": [
      "Quartiles= [25.5  38.5  49.75]\n"
     ]
    }
   ],
   "source": [
    "#7.\n",
    "import numpy as np\n",
    "def cal_quartiles(data):\n",
    "    return np.percentile(data,[25,50,75])\n",
    "data=[29,44,64,33,88,3,15,45]\n",
    "quartiles=cal_quartiles(data)\n",
    "print(\"Quartiles=\",quartiles)"
   ]
  },
  {
   "cell_type": "code",
   "execution_count": 27,
   "id": "aac40195-ae64-46b3-9db8-b6e550e7bc9d",
   "metadata": {},
   "outputs": [
    {
     "name": "stdout",
     "output_type": "stream",
     "text": [
      "Interquartile range= [24.25]\n"
     ]
    }
   ],
   "source": [
    "#8.\n",
    "import numpy as np\n",
    "def cal_iqr(data):\n",
    "    q1=np.percentile(data,[25])\n",
    "    q3=np.percentile(data,[75])\n",
    "    return q3-q1\n",
    "data=[29,44,64,33,88,3,15,45]\n",
    "iqr=cal_iqr(data)\n",
    "print(\"Interquartile range=\",iqr)"
   ]
  },
  {
   "cell_type": "code",
   "execution_count": 30,
   "id": "a1465caf-dbe1-469a-ba7f-04ed3a4aa3b6",
   "metadata": {},
   "outputs": [
    {
     "name": "stdout",
     "output_type": "stream",
     "text": [
      "Skewness= 0.42704948670766474\n"
     ]
    }
   ],
   "source": [
    "#9.\n",
    "from scipy.stats import skew\n",
    "data=[29,44,64,33,88,3,15,45]\n",
    "skewness=skew(data)\n",
    "print(\"Skewness=\",skewness)"
   ]
  },
  {
   "cell_type": "code",
   "execution_count": 31,
   "id": "0051af28-65af-4b71-bc71-ef07c28cac72",
   "metadata": {},
   "outputs": [
    {
     "name": "stdout",
     "output_type": "stream",
     "text": [
      "Correlation coefficient= 0.16929232714218215\n"
     ]
    }
   ],
   "source": [
    "#10.\n",
    "import numpy as np\n",
    "def cal_corr_coeff(data1,data2):\n",
    "    return np.corrcoef(data1,data2)[0,1]\n",
    "data1=[10,20,30,60,70]\n",
    "data2=[10,20,60,10,40]\n",
    "corr_coeff=cal_corr_coeff(data1,data2)\n",
    "print(\"Correlation coefficient=\",corr_coeff)"
   ]
  }
 ],
 "metadata": {
  "kernelspec": {
   "display_name": "Python 3 (ipykernel)",
   "language": "python",
   "name": "python3"
  },
  "language_info": {
   "codemirror_mode": {
    "name": "ipython",
    "version": 3
   },
   "file_extension": ".py",
   "mimetype": "text/x-python",
   "name": "python",
   "nbconvert_exporter": "python",
   "pygments_lexer": "ipython3",
   "version": "3.11.7"
  }
 },
 "nbformat": 4,
 "nbformat_minor": 5
}
