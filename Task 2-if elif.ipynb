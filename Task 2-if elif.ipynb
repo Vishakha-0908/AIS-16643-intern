{
 "cells": [
  {
   "cell_type": "markdown",
   "id": "e8cedd44-39b4-416e-871b-4ad44717ac2e",
   "metadata": {},
   "source": [
    "The elif keyword is Python's way of saying \"if the previous conditions were not true, then try this condition.\"\n"
   ]
  },
  {
   "cell_type": "code",
   "execution_count": 5,
   "id": "0988a081-666e-4f0b-9429-c9d50eff2e3b",
   "metadata": {},
   "outputs": [
    {
     "name": "stdout",
     "output_type": "stream",
     "text": [
      "'b' is largest\n"
     ]
    }
   ],
   "source": [
    "#determine largest among 3 no.s\n",
    "a=3\n",
    "b=5\n",
    "c=1\n",
    "if a>b and a>c:\n",
    "    print(\"'a' is largest\")\n",
    "elif b>a and b>c:\n",
    "    print(\"'b' is largest\")\n",
    "else:\n",
    "    print(\"'c' is largest\")"
   ]
  },
  {
   "cell_type": "code",
   "execution_count": 7,
   "id": "5ced6a3c-e7d4-458d-a829-d180c7ab612d",
   "metadata": {},
   "outputs": [
    {
     "name": "stdout",
     "output_type": "stream",
     "text": [
      "car\n"
     ]
    }
   ],
   "source": [
    "wheels=4\n",
    "if wheels==2:\n",
    "    print(\"bike\")\n",
    "elif wheels==3:\n",
    "    print(\"Rikshaw\")\n",
    "elif wheels==4:\n",
    "    print(\"car\")\n",
    "else:\n",
    "    print(\"unknown vehicle\")\n",
    "    "
   ]
  },
  {
   "cell_type": "code",
   "execution_count": 3,
   "id": "fd19869d-79c8-4794-a1fe-b968872b43a3",
   "metadata": {},
   "outputs": [
    {
     "name": "stdout",
     "output_type": "stream",
     "text": [
      "fail\n"
     ]
    }
   ],
   "source": [
    "#check the grades\n",
    "score=32\n",
    "if score>=75:\n",
    "    print(\"First class with distinction\")\n",
    "elif  score>=60 and score<75:\n",
    "    print(\"First class\")\n",
    "elif score>=50 and score<60:\n",
    "    print(\"Second class\")\n",
    "elif score>=35 and score<50:\n",
    "    print(\"pass class\")\n",
    "else:\n",
    "    print(\"fail\")"
   ]
  },
  {
   "cell_type": "code",
   "execution_count": 4,
   "id": "8340af7d-8571-4ade-8542-981f2aa32241",
   "metadata": {},
   "outputs": [
    {
     "name": "stdout",
     "output_type": "stream",
     "text": [
      "Good afternoon!!\n"
     ]
    }
   ],
   "source": [
    "hour=13\n",
    "if hour<12:\n",
    "    print(\"Good morning!\")\n",
    "elif hour>=12 and hour<17:\n",
    "    print(\"Good afternoon!!\")\n",
    "else:\n",
    "    print(\"Good evening!!\")"
   ]
  },
  {
   "cell_type": "code",
   "execution_count": 5,
   "id": "74d023a7-9cb2-4a0d-b828-568020cf9697",
   "metadata": {},
   "outputs": [
    {
     "name": "stdout",
     "output_type": "stream",
     "text": [
      "Positive no.\n"
     ]
    }
   ],
   "source": [
    "num=12\n",
    "if num>0:\n",
    "    print(\"Positive no.\")\n",
    "elif num<0:\n",
    "    print(\"Negative no.\")\n",
    "else:\n",
    "    print(\"Number is zero\")"
   ]
  },
  {
   "cell_type": "code",
   "execution_count": 8,
   "id": "6e5a1109-adc9-43bd-9d38-aed01ffa9496",
   "metadata": {},
   "outputs": [
    {
     "name": "stdout",
     "output_type": "stream",
     "text": [
      "Obtuse angle\n"
     ]
    }
   ],
   "source": [
    "angle=173\n",
    "if angle<90:\n",
    "    print(\"Acute angle\")\n",
    "elif angle==90:\n",
    "    print(\"Right angle\")\n",
    "else :\n",
    "    print(\"Obtuse angle\")"
   ]
  },
  {
   "cell_type": "code",
   "execution_count": 9,
   "id": "be1c16d1-a230-4208-8ab7-6771ac1d8588",
   "metadata": {},
   "outputs": [
    {
     "name": "stdout",
     "output_type": "stream",
     "text": [
      "x is greater than 10\n"
     ]
    }
   ],
   "source": [
    "x=34\n",
    "if x>10:\n",
    "    print(\"x is greater than 10\")\n",
    "elif x<10:\n",
    "    print(\"x is less than 10\")\n",
    "else:\n",
    "    print(\"x is equal to 10\")"
   ]
  },
  {
   "cell_type": "code",
   "execution_count": 10,
   "id": "352f7cf5-13da-426f-83b3-6e10401a43ae",
   "metadata": {},
   "outputs": [
    {
     "name": "stdout",
     "output_type": "stream",
     "text": [
      "Rainy Season\n"
     ]
    }
   ],
   "source": [
    "month=\"aug\"\n",
    "if month in [\"nov\",\"dec\",\"jan\",\"feb\"]:\n",
    "    print(\"Winter\")\n",
    "elif month in [\"mar\",\"apr\",\"may\",\"june\"]:\n",
    "    print(\"Summer\")\n",
    "else:\n",
    "    print(\"Rainy Season\")"
   ]
  },
  {
   "cell_type": "code",
   "execution_count": 11,
   "id": "ddace8ec-f166-4206-9d2a-5577a7410955",
   "metadata": {},
   "outputs": [
    {
     "name": "stdout",
     "output_type": "stream",
     "text": [
      "tuesday\n"
     ]
    }
   ],
   "source": [
    "day=3\n",
    "if day==1:\n",
    "    print(\"sunday\")\n",
    "elif day==2:\n",
    "    print(\"monday\")\n",
    "elif day==3:\n",
    "    print(\"tuesday\")\n",
    "else:\n",
    "    print(\"Other day\")\n",
    "        "
   ]
  },
  {
   "cell_type": "code",
   "execution_count": 12,
   "id": "379cfa85-85a7-4445-9636-2a67e1002ba3",
   "metadata": {},
   "outputs": [
    {
     "name": "stdout",
     "output_type": "stream",
     "text": [
      "x is less than y\n"
     ]
    }
   ],
   "source": [
    "x=12\n",
    "y=45\n",
    "if x==y:\n",
    "    print(\"Both no. are equal\")\n",
    "elif x<y:\n",
    "    print(\"x is less than y\")\n",
    "else:\n",
    "    print(\"x is greater than y\")"
   ]
  }
 ],
 "metadata": {
  "kernelspec": {
   "display_name": "Python 3 (ipykernel)",
   "language": "python",
   "name": "python3"
  },
  "language_info": {
   "codemirror_mode": {
    "name": "ipython",
    "version": 3
   },
   "file_extension": ".py",
   "mimetype": "text/x-python",
   "name": "python",
   "nbconvert_exporter": "python",
   "pygments_lexer": "ipython3",
   "version": "3.11.7"
  }
 },
 "nbformat": 4,
 "nbformat_minor": 5
}
