{
 "cells": [
  {
   "cell_type": "code",
   "execution_count": 1,
   "id": "8dd5de0b",
   "metadata": {},
   "outputs": [
    {
     "data": {
      "text/plain": [
       "['college', 10, 2, 7, 'name']"
      ]
     },
     "execution_count": 1,
     "metadata": {},
     "output_type": "execute_result"
    }
   ],
   "source": [
    "#list creation\n",
    "l1=[\"college\",10,2,7,\"name\"]\n",
    "l1"
   ]
  },
  {
   "cell_type": "code",
   "execution_count": 2,
   "id": "eb2314f8",
   "metadata": {},
   "outputs": [
    {
     "data": {
      "text/plain": [
       "list"
      ]
     },
     "execution_count": 2,
     "metadata": {},
     "output_type": "execute_result"
    }
   ],
   "source": [
    "type(l1)"
   ]
  },
  {
   "cell_type": "code",
   "execution_count": 3,
   "id": "ccf959b0",
   "metadata": {},
   "outputs": [
    {
     "data": {
      "text/plain": [
       "[]"
      ]
     },
     "execution_count": 3,
     "metadata": {},
     "output_type": "execute_result"
    }
   ],
   "source": [
    "#empty list\n",
    "l=[]\n",
    "l"
   ]
  },
  {
   "cell_type": "code",
   "execution_count": 4,
   "id": "8664e520",
   "metadata": {},
   "outputs": [
    {
     "data": {
      "text/plain": [
       "[4, 8, 8, 5]"
      ]
     },
     "execution_count": 4,
     "metadata": {},
     "output_type": "execute_result"
    }
   ],
   "source": [
    "#list of integer\n",
    "l2=[4,8,8,5]\n",
    "l2"
   ]
  },
  {
   "cell_type": "code",
   "execution_count": 5,
   "id": "e8a3be32",
   "metadata": {},
   "outputs": [
    {
     "data": {
      "text/plain": [
       "[['cat', 1, 3], 8, ['name']]"
      ]
     },
     "execution_count": 5,
     "metadata": {},
     "output_type": "execute_result"
    }
   ],
   "source": [
    "#nested list\n",
    "l3=[[\"cat\",1,3],8,[\"name\"]]\n",
    "l3"
   ]
  },
  {
   "cell_type": "code",
   "execution_count": 6,
   "id": "90eeb820",
   "metadata": {},
   "outputs": [
    {
     "data": {
      "text/plain": [
       "7"
      ]
     },
     "execution_count": 6,
     "metadata": {},
     "output_type": "execute_result"
    }
   ],
   "source": [
    "#accessing items\n",
    "l1[3]"
   ]
  },
  {
   "cell_type": "code",
   "execution_count": 7,
   "id": "e00575f0",
   "metadata": {},
   "outputs": [
    {
     "data": {
      "text/plain": [
       "2"
      ]
     },
     "execution_count": 7,
     "metadata": {},
     "output_type": "execute_result"
    }
   ],
   "source": [
    "l1[-3]"
   ]
  },
  {
   "cell_type": "code",
   "execution_count": 8,
   "id": "107dd1f7",
   "metadata": {},
   "outputs": [
    {
     "data": {
      "text/plain": [
       "['college', 10, 2, 7, 'name']"
      ]
     },
     "execution_count": 8,
     "metadata": {},
     "output_type": "execute_result"
    }
   ],
   "source": [
    "l1[:]"
   ]
  },
  {
   "cell_type": "code",
   "execution_count": 12,
   "id": "7dd68e3e",
   "metadata": {},
   "outputs": [
    {
     "data": {
      "text/plain": [
       "8"
      ]
     },
     "execution_count": 12,
     "metadata": {},
     "output_type": "execute_result"
    }
   ],
   "source": [
    "l4=[\"name\",[1,2,7,[6,8]]]\n",
    "l4[-1][3][-1]"
   ]
  },
  {
   "cell_type": "code",
   "execution_count": 14,
   "id": "3eb833df",
   "metadata": {},
   "outputs": [
    {
     "data": {
      "text/plain": [
       "[6, 8]"
      ]
     },
     "execution_count": 14,
     "metadata": {},
     "output_type": "execute_result"
    }
   ],
   "source": [
    "l4[1][3]"
   ]
  },
  {
   "cell_type": "code",
   "execution_count": 15,
   "id": "fb46f5e6",
   "metadata": {},
   "outputs": [
    {
     "data": {
      "text/plain": [
       "[0, 5, 2]"
      ]
     },
     "execution_count": 15,
     "metadata": {},
     "output_type": "execute_result"
    }
   ],
   "source": [
    "#elements 2 to 5 #start include   end exclude\n",
    "l5=[4,9,0,5,2,8,1]\n",
    "l5[2:5]"
   ]
  },
  {
   "cell_type": "code",
   "execution_count": 16,
   "id": "d4017a27",
   "metadata": {},
   "outputs": [
    {
     "data": {
      "text/plain": [
       "[8, 1]"
      ]
     },
     "execution_count": 16,
     "metadata": {},
     "output_type": "execute_result"
    }
   ],
   "source": [
    "#elements 5 to end\n",
    "l5[5:]"
   ]
  },
  {
   "cell_type": "code",
   "execution_count": 18,
   "id": "c1b73939",
   "metadata": {},
   "outputs": [
    {
     "data": {
      "text/plain": [
       "[4, 9, 'happy', 5, 2, 8, 1]"
      ]
     },
     "execution_count": 18,
     "metadata": {},
     "output_type": "execute_result"
    }
   ],
   "source": [
    "#change the value\n",
    "l5[2]=\"happy\"\n",
    "l5"
   ]
  },
  {
   "cell_type": "code",
   "execution_count": 19,
   "id": "fc2a6459",
   "metadata": {},
   "outputs": [
    {
     "data": {
      "text/plain": [
       "7"
      ]
     },
     "execution_count": 19,
     "metadata": {},
     "output_type": "execute_result"
    }
   ],
   "source": [
    "len(l5)"
   ]
  },
  {
   "cell_type": "code",
   "execution_count": 20,
   "id": "7aaf067d",
   "metadata": {},
   "outputs": [
    {
     "data": {
      "text/plain": [
       "['college', 10, 2, 7, 'name', 'happy']"
      ]
     },
     "execution_count": 20,
     "metadata": {},
     "output_type": "execute_result"
    }
   ],
   "source": [
    "#methods\n",
    "#1.append\n",
    "l1.append(\"happy\")\n",
    "l1"
   ]
  },
  {
   "cell_type": "code",
   "execution_count": 2,
   "id": "4f7999ab",
   "metadata": {},
   "outputs": [
    {
     "data": {
      "text/plain": [
       "[0, 1, 2, 4, 5, 8, 9]"
      ]
     },
     "execution_count": 2,
     "metadata": {},
     "output_type": "execute_result"
    }
   ],
   "source": [
    "#sort\n",
    "l5=[4,9,0,5,2,8,1]\n",
    "l5.sort()\n",
    "l5"
   ]
  },
  {
   "cell_type": "code",
   "execution_count": 3,
   "id": "3b433349",
   "metadata": {},
   "outputs": [
    {
     "data": {
      "text/plain": [
       "1"
      ]
     },
     "execution_count": 3,
     "metadata": {},
     "output_type": "execute_result"
    }
   ],
   "source": [
    "#count\n",
    "l5.count(8)"
   ]
  },
  {
   "cell_type": "code",
   "execution_count": 26,
   "id": "8cbe9710",
   "metadata": {},
   "outputs": [
    {
     "data": {
      "text/plain": [
       "[0, 1, 4, 5, 9]"
      ]
     },
     "execution_count": 26,
     "metadata": {},
     "output_type": "execute_result"
    }
   ],
   "source": [
    "#remove\n",
    "l5.remove(2)\n",
    "l5"
   ]
  },
  {
   "cell_type": "code",
   "execution_count": 32,
   "id": "5dce8dec",
   "metadata": {},
   "outputs": [
    {
     "data": {
      "text/plain": [
       "5"
      ]
     },
     "execution_count": 32,
     "metadata": {},
     "output_type": "execute_result"
    }
   ],
   "source": [
    "# pop\n",
    "l6=[7,0,5,5,3,9]\n",
    "l6.pop(2)\n"
   ]
  },
  {
   "cell_type": "code",
   "execution_count": 33,
   "id": "454a48b4",
   "metadata": {},
   "outputs": [
    {
     "data": {
      "text/plain": [
       "[]"
      ]
     },
     "execution_count": 33,
     "metadata": {},
     "output_type": "execute_result"
    }
   ],
   "source": [
    "#clear\n",
    "l6.clear()\n",
    "l6"
   ]
  },
  {
   "cell_type": "code",
   "execution_count": 34,
   "id": "8935d364",
   "metadata": {},
   "outputs": [
    {
     "data": {
      "text/plain": [
       "['college', 10, 2, 7, 'name', 'happy']"
      ]
     },
     "execution_count": 34,
     "metadata": {},
     "output_type": "execute_result"
    }
   ],
   "source": [
    "#copy\n",
    "x=l1.copy()\n",
    "x"
   ]
  },
  {
   "cell_type": "code",
   "execution_count": 57,
   "id": "953ac6ff",
   "metadata": {},
   "outputs": [],
   "source": [
    "#reverse\n",
    "l1.reverse()"
   ]
  },
  {
   "cell_type": "code",
   "execution_count": 43,
   "id": "9d28ab15",
   "metadata": {},
   "outputs": [
    {
     "data": {
      "text/plain": [
       "1"
      ]
     },
     "execution_count": 43,
     "metadata": {},
     "output_type": "execute_result"
    }
   ],
   "source": [
    "l1.index(10)"
   ]
  },
  {
   "cell_type": "code",
   "execution_count": 13,
   "id": "5cc955e1",
   "metadata": {},
   "outputs": [
    {
     "name": "stdout",
     "output_type": "stream",
     "text": [
      "None\n"
     ]
    }
   ],
   "source": [
    "l=[\"college\",10,2,7,\"name\"]\n",
    "x2=l.insert(1,\"satara\")\n",
    "print(x2)"
   ]
  },
  {
   "cell_type": "code",
   "execution_count": 49,
   "id": "8f4e24e7",
   "metadata": {},
   "outputs": [
    {
     "data": {
      "text/plain": [
       "1899837264000"
      ]
     },
     "execution_count": 49,
     "metadata": {},
     "output_type": "execute_result"
    }
   ],
   "source": [
    "id(l1)"
   ]
  },
  {
   "cell_type": "code",
   "execution_count": 11,
   "id": "d46293ca",
   "metadata": {},
   "outputs": [
    {
     "name": "stdout",
     "output_type": "stream",
     "text": [
      "None\n"
     ]
    }
   ],
   "source": [
    "#extend\n",
    "fruits=[\"banana\",\"mango\"]\n",
    "cars=[\"thar\",\"fortuner\"]\n",
    "print(fruits.extend(cars))"
   ]
  },
  {
   "cell_type": "code",
   "execution_count": 8,
   "id": "603faaa4",
   "metadata": {},
   "outputs": [
    {
     "data": {
      "text/plain": [
       "[0, 3, 5, 5, 7, 9]"
      ]
     },
     "execution_count": 8,
     "metadata": {},
     "output_type": "execute_result"
    }
   ],
   "source": [
    "#sort\n",
    "l6=[7,0,5,5,3,9]\n",
    "l6.sort()\n",
    "l6"
   ]
  }
 ],
 "metadata": {
  "kernelspec": {
   "display_name": "Python 3 (ipykernel)",
   "language": "python",
   "name": "python3"
  },
  "language_info": {
   "codemirror_mode": {
    "name": "ipython",
    "version": 3
   },
   "file_extension": ".py",
   "mimetype": "text/x-python",
   "name": "python",
   "nbconvert_exporter": "python",
   "pygments_lexer": "ipython3",
   "version": "3.11.7"
  }
 },
 "nbformat": 4,
 "nbformat_minor": 5
}
