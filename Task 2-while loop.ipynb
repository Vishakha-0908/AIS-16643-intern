{
 "cells": [
  {
   "cell_type": "markdown",
   "id": "a6f6b774-cdea-480c-8fe7-b011224dbf9b",
   "metadata": {},
   "source": [
    "With the while loop we can execute a set of statements as long as a condition is true.\n",
    "The while loop requires relevant variables to be ready, in this example we need to define an indexing variable, i, which we set to 1.\n",
    "\n"
   ]
  },
  {
   "cell_type": "code",
   "execution_count": 1,
   "id": "4133ac61-ed3c-4893-a61e-d989ba4f2748",
   "metadata": {},
   "outputs": [
    {
     "name": "stdout",
     "output_type": "stream",
     "text": [
      "1\n",
      "2\n",
      "3\n",
      "4\n",
      "5\n"
     ]
    }
   ],
   "source": [
    "#print 1 to 5\n",
    "num=1\n",
    "while num<=5:\n",
    "    print(num)\n",
    "    num=num+1"
   ]
  },
  {
   "cell_type": "code",
   "execution_count": 5,
   "id": "1ddb0002-8dec-4563-827f-969660851573",
   "metadata": {},
   "outputs": [
    {
     "name": "stdin",
     "output_type": "stream",
     "text": [
      "Enter password: dcs43f\n",
      "Enter password: Satara@123\n"
     ]
    },
    {
     "name": "stdout",
     "output_type": "stream",
     "text": [
      "Access Granted\n"
     ]
    }
   ],
   "source": [
    "#password input with maximum 3 attempts\n",
    "password=\"Satara@123\"\n",
    "attempts=0\n",
    "while attempts<3:\n",
    "    user_password=input(\"Enter password:\")\n",
    "    if user_password==password:\n",
    "        print(\"Access Granted\")\n",
    "        break\n",
    "    else:\n",
    "        attempts+=1"
   ]
  },
  {
   "cell_type": "code",
   "execution_count": 4,
   "id": "a713bb94-80a6-40df-9bf1-a6942aa6aaec",
   "metadata": {},
   "outputs": [
    {
     "name": "stdout",
     "output_type": "stream",
     "text": [
      "Sum= 55\n"
     ]
    }
   ],
   "source": [
    "#sum of numbers from 1 to 10\n",
    "sum=0\n",
    "num=1\n",
    "while num<=10 :\n",
    "    sum=sum+num\n",
    "    num=num+1\n",
    "print(\"Sum=\",sum)"
   ]
  },
  {
   "cell_type": "code",
   "execution_count": 7,
   "id": "5d2abc4e-3ca0-4137-9edd-0b46ee585f14",
   "metadata": {},
   "outputs": [
    {
     "name": "stdout",
     "output_type": "stream",
     "text": [
      "*****\n",
      "****\n",
      "***\n",
      "**\n",
      "*\n"
     ]
    }
   ],
   "source": [
    "#printing pattern using while loop\n",
    "row=5\n",
    "while row>0:\n",
    "    print(\"*\"*row)\n",
    "    row-=1"
   ]
  },
  {
   "cell_type": "code",
   "execution_count": 9,
   "id": "3c84530a-bdec-48ff-a865-2a603f94a7eb",
   "metadata": {},
   "outputs": [
    {
     "name": "stdout",
     "output_type": "stream",
     "text": [
      "*****\n",
      "****\n",
      "***\n",
      "**\n",
      "*\n"
     ]
    }
   ],
   "source": [
    "#print pattern using for loop\n",
    "i=5\n",
    "while i in range(5,0,-1):\n",
    "    print('*'*i)\n",
    "    i-=1"
   ]
  },
  {
   "cell_type": "code",
   "execution_count": 10,
   "id": "317563b3-44d4-4515-ac8b-e2620fbb3bd4",
   "metadata": {},
   "outputs": [
    {
     "name": "stdout",
     "output_type": "stream",
     "text": [
      "*\n",
      "**\n",
      "***\n",
      "****\n",
      "*****\n"
     ]
    }
   ],
   "source": [
    "#print pattern using for loop\n",
    "i=1\n",
    "while i in range(1,6):\n",
    "    print('*'*i)\n",
    "    i+=1"
   ]
  },
  {
   "cell_type": "code",
   "execution_count": 1,
   "id": "c2ac59d7-4757-4634-b8e6-70fb80e9f501",
   "metadata": {},
   "outputs": [
    {
     "name": "stdin",
     "output_type": "stream",
     "text": [
      "Enter 'Quit' to exit: jchduisf\n",
      "Enter 'Quit' to exit: Quit\n"
     ]
    }
   ],
   "source": [
    "game_over=False\n",
    "while not game_over:\n",
    "    user_input=input(\"Enter 'Quit' to exit:\")\n",
    "    if user_input==\"Quit\":\n",
    "        game_over=True\n",
    "        "
   ]
  },
  {
   "cell_type": "code",
   "execution_count": 2,
   "id": "fda20206-7ad0-4543-8a0b-aa6bef8ad0a1",
   "metadata": {},
   "outputs": [
    {
     "name": "stdout",
     "output_type": "stream",
     "text": [
      "square of 1 is 1\n",
      "square of 2 is 4\n",
      "square of 3 is 9\n",
      "square of 4 is 16\n",
      "square of 5 is 25\n"
     ]
    }
   ],
   "source": [
    "#square of numbers from 1 to 5\n",
    "num=1\n",
    "while num<=5:\n",
    "    sq=num**2\n",
    "    print(\"square of\",num,\"is\",sq)\n",
    "    num+=1"
   ]
  },
  {
   "cell_type": "code",
   "execution_count": 4,
   "id": "5c0bc675-a061-4dd9-b97b-22fd01202b6a",
   "metadata": {},
   "outputs": [
    {
     "name": "stdout",
     "output_type": "stream",
     "text": [
      "cube of 1 is 1\n",
      "cube of 2 is 8\n",
      "cube of 3 is 27\n",
      "cube of 4 is 64\n",
      "cube of 5 is 125\n"
     ]
    }
   ],
   "source": [
    "#cube of numbers from 1 to 5\n",
    "num=1\n",
    "while num<=5:\n",
    "    cube=num**3\n",
    "    print(\"cube of\",num,\"is\",cube)\n",
    "    num+=1"
   ]
  },
  {
   "cell_type": "code",
   "execution_count": 9,
   "id": "36a0411d-d702-481b-9e73-d4a76b9cac99",
   "metadata": {},
   "outputs": [
    {
     "name": "stdout",
     "output_type": "stream",
     "text": [
      "Factorial of 5 is 120\n"
     ]
    }
   ],
   "source": [
    "#factorial of a number\n",
    "num=5\n",
    "fact=1\n",
    "i=1\n",
    "while i<=num:\n",
    "    fact=fact*i\n",
    "    i=i+1\n",
    "print(\"Factorial of\",num,\"is\",fact)"
   ]
  }
 ],
 "metadata": {
  "kernelspec": {
   "display_name": "Python 3 (ipykernel)",
   "language": "python",
   "name": "python3"
  },
  "language_info": {
   "codemirror_mode": {
    "name": "ipython",
    "version": 3
   },
   "file_extension": ".py",
   "mimetype": "text/x-python",
   "name": "python",
   "nbconvert_exporter": "python",
   "pygments_lexer": "ipython3",
   "version": "3.11.7"
  }
 },
 "nbformat": 4,
 "nbformat_minor": 5
}
