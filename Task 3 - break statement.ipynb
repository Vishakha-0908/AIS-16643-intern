{
 "cells": [
  {
   "cell_type": "markdown",
   "id": "6357a9ae-276e-43e9-bd52-0d6ea70245cf",
   "metadata": {},
   "source": [
    "The break statement in Python is used to prematurely exit a loop. When the 'break' statement is encountered within a loop, the loop is immediately terminated, and the program execution continues from the next statement after the loop."
   ]
  },
  {
   "cell_type": "code",
   "execution_count": 3,
   "id": "338ddea0-a303-43cd-847e-63a3d2490308",
   "metadata": {},
   "outputs": [
    {
     "name": "stdout",
     "output_type": "stream",
     "text": [
      "1\n",
      "2\n",
      "3\n",
      "4\n"
     ]
    }
   ],
   "source": [
    "for i in range(1,11):\n",
    "    if i==5:\n",
    "        break\n",
    "    print(i)    "
   ]
  },
  {
   "cell_type": "code",
   "execution_count": 5,
   "id": "568d9f41-cf80-43e5-b1c7-fcefb0330fa1",
   "metadata": {},
   "outputs": [
    {
     "name": "stdout",
     "output_type": "stream",
     "text": [
      "1\n",
      "2\n",
      "3\n",
      "4\n",
      "5\n",
      "6\n"
     ]
    }
   ],
   "source": [
    "for i in range(1,21):\n",
    "    if i%7==0:\n",
    "        break\n",
    "    print(i)"
   ]
  },
  {
   "cell_type": "code",
   "execution_count": 6,
   "id": "60e12be8-5095-4e61-a38e-f545a84bb77d",
   "metadata": {},
   "outputs": [
    {
     "name": "stdout",
     "output_type": "stream",
     "text": [
      "H\n",
      "e\n",
      "l\n",
      "l\n"
     ]
    }
   ],
   "source": [
    "x=\"Hello, world!\"\n",
    "for i in x:\n",
    "    if i==\"o\":\n",
    "        break\n",
    "    print(i)"
   ]
  }
 ],
 "metadata": {
  "kernelspec": {
   "display_name": "Python 3 (ipykernel)",
   "language": "python",
   "name": "python3"
  },
  "language_info": {
   "codemirror_mode": {
    "name": "ipython",
    "version": 3
   },
   "file_extension": ".py",
   "mimetype": "text/x-python",
   "name": "python",
   "nbconvert_exporter": "python",
   "pygments_lexer": "ipython3",
   "version": "3.11.7"
  }
 },
 "nbformat": 4,
 "nbformat_minor": 5
}
