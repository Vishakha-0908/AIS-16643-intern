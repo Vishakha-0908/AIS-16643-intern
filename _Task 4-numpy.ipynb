{
 "cells": [
  {
   "cell_type": "code",
   "execution_count": 4,
   "id": "3637b62d-bf01-4e86-a41d-e8687b2b9923",
   "metadata": {},
   "outputs": [
    {
     "name": "stdout",
     "output_type": "stream",
     "text": [
      "78\n"
     ]
    }
   ],
   "source": [
    "#generate random integer from 0 to 100\n",
    "from numpy import random \n",
    "x=random.randint(100)\n",
    "print(x)"
   ]
  },
  {
   "cell_type": "code",
   "execution_count": 10,
   "id": "86b23b1f-6cd2-4d04-a458-bd7188c7a44f",
   "metadata": {},
   "outputs": [
    {
     "name": "stdout",
     "output_type": "stream",
     "text": [
      "0.6302530430882972\n"
     ]
    }
   ],
   "source": [
    "#generate random float from 0 to 1\n",
    "from numpy import random \n",
    "x=random.rand()\n",
    "print(x)"
   ]
  },
  {
   "cell_type": "code",
   "execution_count": 12,
   "id": "67c52c69-6d92-496a-aa4e-5dc6e987a7c4",
   "metadata": {},
   "outputs": [
    {
     "name": "stdout",
     "output_type": "stream",
     "text": [
      "[37 32 32 92 43]\n"
     ]
    }
   ],
   "source": [
    "#generate 1 D array containing 5 random integers from 0 to 100\n",
    "from numpy import random \n",
    "x=random.randint(100,size=(5))\n",
    "print(x)"
   ]
  },
  {
   "cell_type": "code",
   "execution_count": 14,
   "id": "c7ff576e-3c99-4a6e-94ec-2cb4b762acb4",
   "metadata": {},
   "outputs": [
    {
     "name": "stdout",
     "output_type": "stream",
     "text": [
      "[[27 86 28 61 57]\n",
      " [68  3 80 38 60]\n",
      " [29 10  7 32 50]]\n"
     ]
    }
   ],
   "source": [
    "#generate 2 D array with 3 rows, each row containing 5 random integers from 0 to 100\n",
    "from numpy import random \n",
    "x=random.randint(100,size=(3,5))\n",
    "print(x)"
   ]
  },
  {
   "cell_type": "code",
   "execution_count": 16,
   "id": "b045d5bf-584c-4246-af54-642a1a5124ed",
   "metadata": {},
   "outputs": [
    {
     "name": "stdout",
     "output_type": "stream",
     "text": [
      "[0.35813667 0.67797017 0.1327805  0.18167047 0.07087102]\n"
     ]
    }
   ],
   "source": [
    "#generate 1 D array containing 5 random float\n",
    "from numpy import random \n",
    "x=random.rand(5)\n",
    "print(x)"
   ]
  },
  {
   "cell_type": "code",
   "execution_count": 17,
   "id": "162d5126-983e-4078-b461-322aa427727a",
   "metadata": {},
   "outputs": [
    {
     "name": "stdout",
     "output_type": "stream",
     "text": [
      "[[0.30454532 0.71972475 0.14496723 0.77819099 0.36950629]\n",
      " [0.88044795 0.61988772 0.52757862 0.68538026 0.83457371]\n",
      " [0.79076071 0.3859661  0.47919053 0.89857844 0.20048716]]\n"
     ]
    }
   ],
   "source": [
    "#generate 2 D array containing 3 rows, each row containing 5 random numbers\n",
    "from numpy import random \n",
    "x=random.rand(3,5)\n",
    "print(x)"
   ]
  },
  {
   "cell_type": "code",
   "execution_count": 19,
   "id": "814c45ae-1514-4266-b46e-7eca02071841",
   "metadata": {},
   "outputs": [
    {
     "name": "stdout",
     "output_type": "stream",
     "text": [
      "3\n"
     ]
    }
   ],
   "source": [
    "#generate random number from array\n",
    "#return one of the value from array\n",
    "from numpy import random\n",
    "x=random.choice([2,3,5,8,7,1])\n",
    "print(x)"
   ]
  },
  {
   "cell_type": "code",
   "execution_count": 20,
   "id": "9f7c0775-17a2-4811-9ac8-726787a9ae47",
   "metadata": {},
   "outputs": [
    {
     "name": "stdout",
     "output_type": "stream",
     "text": [
      "[[7 8 3 8 2]\n",
      " [3 2 8 2 3]\n",
      " [3 2 3 3 1]]\n"
     ]
    }
   ],
   "source": [
    "from numpy import random\n",
    "x=random.choice([2,3,5,8,7,1],size=(3,5))\n",
    "print(x)"
   ]
  },
  {
   "cell_type": "markdown",
   "id": "bbfcd4cd-b655-4630-996f-63251f2007dc",
   "metadata": {},
   "source": [
    "random data distribution\n",
    "Generate a 1-D array containing 100 values, where each value has to be 8, 2, 9 or 1.\n",
    "The probability for the value to be 8 is set to be 0.2\n",
    "The probability for the value to be 2 is set to be 0.5\n",
    "The probability for the value to be 9 is set to be 0.3\n",
    "The probability for the value to be 1 is set to be 0"
   ]
  },
  {
   "cell_type": "code",
   "execution_count": 22,
   "id": "fb85fd15-5dd8-4ae4-8bdb-25be7125c525",
   "metadata": {},
   "outputs": [
    {
     "name": "stdout",
     "output_type": "stream",
     "text": [
      "[2 2 9 2 8 9 9 8 8 2 8 9 2 2 8 2 8 2 2 2 9 8 2 9 2 9 2 9 2 2 2 9 8 2 8 2 2\n",
      " 9 2 2 2 8 9 8 8 2 2 2 9 9 9 9 2 2 2 8 9 9 9 9 9 2 2 8 2 9 2 9 9 9 9 2 2 2\n",
      " 9 8 8 2 8 8 9 8 9 2 9 2 8 2 2 9 2 9 9 2 8 9 9 9 8 2]\n"
     ]
    }
   ],
   "source": [
    "from numpy import random\n",
    "x=random.choice([8,2,9,1],p=[0.2,0.5,0.3,0],size=(100))\n",
    "print(x)"
   ]
  },
  {
   "cell_type": "code",
   "execution_count": 23,
   "id": "a9cbb47f-d80f-4048-a5db-0a9706f5f601",
   "metadata": {},
   "outputs": [
    {
     "name": "stdout",
     "output_type": "stream",
     "text": [
      "[[9 2 2 2 8]\n",
      " [2 9 9 9 2]\n",
      " [2 2 8 2 9]]\n"
     ]
    }
   ],
   "source": [
    "#return a 2-D array with 3 rows, each containing 5 values.\n",
    "from numpy import random\n",
    "x=random.choice([8,2,9,1],p=[0.2,0.5,0.3,0],size=(3,5))\n",
    "print(x)"
   ]
  },
  {
   "cell_type": "code",
   "execution_count": 25,
   "id": "c73dfec5-b405-4750-a748-929620b8d062",
   "metadata": {},
   "outputs": [
    {
     "name": "stdout",
     "output_type": "stream",
     "text": [
      "[9 1 2 7 3]\n"
     ]
    }
   ],
   "source": [
    "#Randomly shuffle elements of following array\n",
    "from numpy import random\n",
    "import numpy as np\n",
    "arr = np.array([2,7,9,3,1])\n",
    "random.shuffle(arr)\n",
    "print(arr)"
   ]
  },
  {
   "cell_type": "code",
   "execution_count": 27,
   "id": "2adc6ece-222d-468c-89e5-1d5f1f405a85",
   "metadata": {},
   "outputs": [
    {
     "name": "stdout",
     "output_type": "stream",
     "text": [
      "[7 3 2 9 1]\n"
     ]
    }
   ],
   "source": [
    "#Generate a random permutation of elements of array\n",
    "from numpy import random\n",
    "import numpy as np\n",
    "arr = np.array([2,7,9,1,3])\n",
    "print(random.permutation(arr))"
   ]
  },
  {
   "cell_type": "code",
   "execution_count": 31,
   "id": "a8e110f1-8af5-4fdf-9ff5-b90e0ce9b03b",
   "metadata": {},
   "outputs": [
    {
     "name": "stderr",
     "output_type": "stream",
     "text": [
      "C:\\Users\\vansh\\AppData\\Local\\Temp\\ipykernel_13200\\1750299968.py:4: UserWarning: \n",
      "\n",
      "`distplot` is a deprecated function and will be removed in seaborn v0.14.0.\n",
      "\n",
      "Please adapt your code to use either `displot` (a figure-level function with\n",
      "similar flexibility) or `kdeplot` (an axes-level function for kernel density plots).\n",
      "\n",
      "For a guide to updating your code to use the new functions, please see\n",
      "https://gist.github.com/mwaskom/de44147ed2974457ad6372750bbe5751\n",
      "\n",
      "  sns.distplot([7,3,2,5,2], hist=False)\n",
      "C:\\Users\\vansh\\anaconda3\\Lib\\site-packages\\seaborn\\_oldcore.py:1119: FutureWarning: use_inf_as_na option is deprecated and will be removed in a future version. Convert inf values to NaN before operating instead.\n",
      "  with pd.option_context('mode.use_inf_as_na', True):\n"
     ]
    },
    {
     "data": {
      "image/png": "[encoded data removed]",
      "text/plain": [
       "<Figure size 640x480 with 1 Axes>"
      ]
     },
     "metadata": {},
     "output_type": "display_data"
    }
   ],
   "source": [
    "#plotting a distplot without histogram\n",
    "import matplotlib.pyplot as plt\n",
    "import seaborn as sns\n",
    "sns.distplot([7,3,2,5,2], hist=False)\n",
    "plt.show()"
   ]
  },
  {
   "cell_type": "code",
   "execution_count": 32,
   "id": "4c2dc1cc-7fd7-43e1-8988-10729e38adab",
   "metadata": {},
   "outputs": [
    {
     "name": "stdout",
     "output_type": "stream",
     "text": [
      "[[ 0.00413771  1.0535506   1.79854151]\n",
      " [-1.0714049   0.51759556 -1.53384513]]\n"
     ]
    }
   ],
   "source": [
    "#Generate a random normal distribution of size 2x3:\n",
    "from numpy import random\n",
    "x = random.normal(size=(2,3))\n",
    "print(x)"
   ]
  },
  {
   "cell_type": "code",
   "execution_count": 33,
   "id": "eee7646c-a2ee-4a2e-b658-a4b39ed099da",
   "metadata": {},
   "outputs": [
    {
     "name": "stdout",
     "output_type": "stream",
     "text": [
      "[[ 2.96298074  0.82397896  1.30760531]\n",
      " [ 1.56453762 -0.18032955 -0.55102293]]\n"
     ]
    }
   ],
   "source": [
    "#Generate a random normal distribution of size 2x3 with mean at 1 and standard deviation of 2:\n",
    "from numpy import random\n",
    "x = random.normal(loc=1, scale=2, size=(2, 3))\n",
    "print(x)"
   ]
  },
  {
   "cell_type": "code",
   "execution_count": 34,
   "id": "d44f2352-d30e-4c73-a29d-31d2a7019112",
   "metadata": {},
   "outputs": [
    {
     "name": "stderr",
     "output_type": "stream",
     "text": [
      "C:\\Users\\vansh\\AppData\\Local\\Temp\\ipykernel_13200\\4081980874.py:5: UserWarning: \n",
      "\n",
      "`distplot` is a deprecated function and will be removed in seaborn v0.14.0.\n",
      "\n",
      "Please adapt your code to use either `displot` (a figure-level function with\n",
      "similar flexibility) or `kdeplot` (an axes-level function for kernel density plots).\n",
      "\n",
      "For a guide to updating your code to use the new functions, please see\n",
      "https://gist.github.com/mwaskom/de44147ed2974457ad6372750bbe5751\n",
      "\n",
      "  sns.distplot(random.normal(size=1000), hist=False)\n",
      "C:\\Users\\vansh\\anaconda3\\Lib\\site-packages\\seaborn\\_oldcore.py:1119: FutureWarning: use_inf_as_na option is deprecated and will be removed in a future version. Convert inf values to NaN before operating instead.\n",
      "  with pd.option_context('mode.use_inf_as_na', True):\n"
     ]
    },
    {
     "data": {
      "image/png": "[encoded data removed]",
      "text/plain": [
       "<Figure size 640x480 with 1 Axes>"
      ]
     },
     "metadata": {},
     "output_type": "display_data"
    }
   ],
   "source": [
    "#Visualization of Normal Distribution\n",
    "from numpy import random\n",
    "import matplotlib.pyplot as plt\n",
    "import seaborn as sns\n",
    "sns.distplot(random.normal(size=1000), hist=False)\n",
    "plt.show()"
   ]
  },
  {
   "cell_type": "code",
   "execution_count": 35,
   "id": "f65489fe-2121-4631-b042-ae835406eba6",
   "metadata": {},
   "outputs": [
    {
     "name": "stdout",
     "output_type": "stream",
     "text": [
      "[7 5 7 6 3 4 2 4 5 2]\n"
     ]
    }
   ],
   "source": [
    "#Binomial distribution\n",
    "#Given 10 trials for coin toss generate 10 data points:\n",
    "from numpy import random\n",
    "x = random.binomial(n=10, p=0.5, size=10)\n",
    "print(x)"
   ]
  },
  {
   "cell_type": "code",
   "execution_count": 36,
   "id": "5755aba2-ce0e-4f74-89bb-bb913eaa86d8",
   "metadata": {},
   "outputs": [
    {
     "name": "stderr",
     "output_type": "stream",
     "text": [
      "C:\\Users\\vansh\\AppData\\Local\\Temp\\ipykernel_13200\\1124693461.py:5: UserWarning: \n",
      "\n",
      "`distplot` is a deprecated function and will be removed in seaborn v0.14.0.\n",
      "\n",
      "Please adapt your code to use either `displot` (a figure-level function with\n",
      "similar flexibility) or `histplot` (an axes-level function for histograms).\n",
      "\n",
      "For a guide to updating your code to use the new functions, please see\n",
      "https://gist.github.com/mwaskom/de44147ed2974457ad6372750bbe5751\n",
      "\n",
      "  sns.distplot(random.binomial(n=10, p=0.5, size=1000), hist=True, kde=False)\n"
     ]
    },
    {
     "data": {
      "image/png": "[encoded data removed]",
      "text/plain": [
       "<Figure size 640x480 with 1 Axes>"
      ]
     },
     "metadata": {},
     "output_type": "display_data"
    }
   ],
   "source": [
    "#Visualization of Binomial Distribution\n",
    "from numpy import random\n",
    "import matplotlib.pyplot as plt\n",
    "import seaborn as sns\n",
    "sns.distplot(random.binomial(n=10, p=0.5, size=1000), hist=True, kde=False)\n",
    "plt.show()"
   ]
  },
  {
   "cell_type": "code",
   "execution_count": 37,
   "id": "8e9c2300-ed4a-4bb6-ab7d-1c7996ccadcb",
   "metadata": {},
   "outputs": [
    {
     "name": "stderr",
     "output_type": "stream",
     "text": [
      "C:\\Users\\vansh\\AppData\\Local\\Temp\\ipykernel_13200\\957041220.py:5: UserWarning: \n",
      "\n",
      "`distplot` is a deprecated function and will be removed in seaborn v0.14.0.\n",
      "\n",
      "Please adapt your code to use either `displot` (a figure-level function with\n",
      "similar flexibility) or `kdeplot` (an axes-level function for kernel density plots).\n",
      "\n",
      "For a guide to updating your code to use the new functions, please see\n",
      "https://gist.github.com/mwaskom/de44147ed2974457ad6372750bbe5751\n",
      "\n",
      "  sns.distplot(random.normal(loc=50, scale=5, size=1000), hist=False, label='normal')\n",
      "C:\\Users\\vansh\\anaconda3\\Lib\\site-packages\\seaborn\\_oldcore.py:1119: FutureWarning: use_inf_as_na option is deprecated and will be removed in a future version. Convert inf values to NaN before operating instead.\n",
      "  with pd.option_context('mode.use_inf_as_na', True):\n",
      "C:\\Users\\vansh\\AppData\\Local\\Temp\\ipykernel_13200\\957041220.py:6: UserWarning: \n",
      "\n",
      "`distplot` is a deprecated function and will be removed in seaborn v0.14.0.\n",
      "\n",
      "Please adapt your code to use either `displot` (a figure-level function with\n",
      "similar flexibility) or `kdeplot` (an axes-level function for kernel density plots).\n",
      "\n",
      "For a guide to updating your code to use the new functions, please see\n",
      "https://gist.github.com/mwaskom/de44147ed2974457ad6372750bbe5751\n",
      "\n",
      "  sns.distplot(random.binomial(n=100, p=0.5, size=1000), hist=False, label='binomial')\n",
      "C:\\Users\\vansh\\anaconda3\\Lib\\site-packages\\seaborn\\_oldcore.py:1119: FutureWarning: use_inf_as_na option is deprecated and will be removed in a future version. Convert inf values to NaN before operating instead.\n",
      "  with pd.option_context('mode.use_inf_as_na', True):\n"
     ]
    },
    {
     "data": {
      "image/png": "[encoded data removed]",
      "text/plain": [
       "<Figure size 640x480 with 1 Axes>"
      ]
     },
     "metadata": {},
     "output_type": "display_data"
    }
   ],
   "source": [
    "#difference between normal and binomial distribution\n",
    "from numpy import random\n",
    "import matplotlib.pyplot as plt\n",
    "import seaborn as sns\n",
    "sns.distplot(random.normal(loc=50, scale=5, size=1000), hist=False, label='normal')\n",
    "sns.distplot(random.binomial(n=100, p=0.5, size=1000), hist=False, label='binomial')\n",
    "plt.show()"
   ]
  },
  {
   "cell_type": "code",
   "execution_count": 39,
   "id": "cddf5392-a5e6-4849-b571-0767f64c535a",
   "metadata": {},
   "outputs": [
    {
     "name": "stdout",
     "output_type": "stream",
     "text": [
      "[1 5 2 1 0 3 2 2 1 1]\n"
     ]
    }
   ],
   "source": [
    "#Poisson distribution\n",
    "#Generate a random 1x10 distribution for occurrence 2:\n",
    "from numpy import random\n",
    "x = random.poisson(lam=2, size=10)\n",
    "print(x)"
   ]
  },
  {
   "cell_type": "code",
   "execution_count": 40,
   "id": "310ab7b1-ab05-4c9b-b3f8-345e1c5f0ec1",
   "metadata": {},
   "outputs": [
    {
     "name": "stderr",
     "output_type": "stream",
     "text": [
      "C:\\Users\\vansh\\AppData\\Local\\Temp\\ipykernel_13200\\3286679940.py:5: UserWarning: \n",
      "\n",
      "`distplot` is a deprecated function and will be removed in seaborn v0.14.0.\n",
      "\n",
      "Please adapt your code to use either `displot` (a figure-level function with\n",
      "similar flexibility) or `histplot` (an axes-level function for histograms).\n",
      "\n",
      "For a guide to updating your code to use the new functions, please see\n",
      "https://gist.github.com/mwaskom/de44147ed2974457ad6372750bbe5751\n",
      "\n",
      "  sns.distplot(random.poisson(lam=2, size=1000), kde=False)\n"
     ]
    },
    {
     "data": {
      "image/png": "[encoded data removed]",
      "text/plain": [
       "<Figure size 640x480 with 1 Axes>"
      ]
     },
     "metadata": {},
     "output_type": "display_data"
    }
   ],
   "source": [
    "#Visualization of Poisson Distribution\n",
    "from numpy import random\n",
    "import matplotlib.pyplot as plt\n",
    "import seaborn as sns\n",
    "sns.distplot(random.poisson(lam=2, size=1000), kde=False)\n",
    "plt.show()"
   ]
  },
  {
   "cell_type": "code",
   "execution_count": 41,
   "id": "37f8728a-1907-4e09-a23f-873ec938c4a6",
   "metadata": {},
   "outputs": [
    {
     "name": "stdout",
     "output_type": "stream",
     "text": [
      "[[0.4239934  0.86849938 0.74237828]\n",
      " [0.12712094 0.57893967 0.1625267 ]]\n"
     ]
    }
   ],
   "source": [
    "#uniform distribution\n",
    "#Create a 2x3 uniform distribution sample:\n",
    "from numpy import random\n",
    "x = random.uniform(size=(2, 3))\n",
    "print(x)"
   ]
  },
  {
   "cell_type": "code",
   "execution_count": 42,
   "id": "daf4eb82-5410-4178-9ff3-99c425c59e7f",
   "metadata": {},
   "outputs": [
    {
     "name": "stderr",
     "output_type": "stream",
     "text": [
      "C:\\Users\\vansh\\AppData\\Local\\Temp\\ipykernel_13200\\809663100.py:5: UserWarning: \n",
      "\n",
      "`distplot` is a deprecated function and will be removed in seaborn v0.14.0.\n",
      "\n",
      "Please adapt your code to use either `displot` (a figure-level function with\n",
      "similar flexibility) or `kdeplot` (an axes-level function for kernel density plots).\n",
      "\n",
      "For a guide to updating your code to use the new functions, please see\n",
      "https://gist.github.com/mwaskom/de44147ed2974457ad6372750bbe5751\n",
      "\n",
      "  sns.distplot(random.uniform(size=1000), hist=False)\n",
      "C:\\Users\\vansh\\anaconda3\\Lib\\site-packages\\seaborn\\_oldcore.py:1119: FutureWarning: use_inf_as_na option is deprecated and will be removed in a future version. Convert inf values to NaN before operating instead.\n",
      "  with pd.option_context('mode.use_inf_as_na', True):\n"
     ]
    },
    {
     "data": {
      "image/png": "[encoded data removed]",
      "text/plain": [
       "<Figure size 640x480 with 1 Axes>"
      ]
     },
     "metadata": {},
     "output_type": "display_data"
    }
   ],
   "source": [
    "#Visualization of Uniform Distribution\n",
    "from numpy import random\n",
    "import matplotlib.pyplot as plt\n",
    "import seaborn as sns\n",
    "sns.distplot(random.uniform(size=1000), hist=False)\n",
    "plt.show()"
   ]
  },
  {
   "cell_type": "code",
   "execution_count": 44,
   "id": "69f85604-cf1b-4544-bcb6-5b21d7e7999e",
   "metadata": {},
   "outputs": [
    {
     "name": "stdout",
     "output_type": "stream",
     "text": [
      "[[ 1.3026286  -1.66742492 -6.88718378]\n",
      " [ 1.60757979  3.2041515  -6.24484032]]\n"
     ]
    }
   ],
   "source": [
    "#logistic distribution\n",
    "#Draw 2x3 samples from a logistic distribution with mean at 1 and stddev 2.0:\n",
    "from numpy import random\n",
    "x = random.logistic(loc=1, scale=2, size=(2, 3))\n",
    "print(x)"
   ]
  },
  {
   "cell_type": "code",
   "execution_count": 45,
   "id": "4a2b58dc-1506-4691-8f89-987db79a1f35",
   "metadata": {},
   "outputs": [
    {
     "name": "stderr",
     "output_type": "stream",
     "text": [
      "C:\\Users\\vansh\\AppData\\Local\\Temp\\ipykernel_13200\\3190197117.py:5: UserWarning: \n",
      "\n",
      "`distplot` is a deprecated function and will be removed in seaborn v0.14.0.\n",
      "\n",
      "Please adapt your code to use either `displot` (a figure-level function with\n",
      "similar flexibility) or `kdeplot` (an axes-level function for kernel density plots).\n",
      "\n",
      "For a guide to updating your code to use the new functions, please see\n",
      "https://gist.github.com/mwaskom/de44147ed2974457ad6372750bbe5751\n",
      "\n",
      "  sns.distplot(random.logistic(size=1000), hist=False)\n",
      "C:\\Users\\vansh\\anaconda3\\Lib\\site-packages\\seaborn\\_oldcore.py:1119: FutureWarning: use_inf_as_na option is deprecated and will be removed in a future version. Convert inf values to NaN before operating instead.\n",
      "  with pd.option_context('mode.use_inf_as_na', True):\n"
     ]
    },
    {
     "data": {
      "image/png": "[encoded data removed]",
      "text/plain": [
       "<Figure size 640x480 with 1 Axes>"
      ]
     },
     "metadata": {},
     "output_type": "display_data"
    }
   ],
   "source": [
    "#Visualization of Logistic Distribution\n",
    "from numpy import random\n",
    "import matplotlib.pyplot as plt\n",
    "import seaborn as sns\n",
    "sns.distplot(random.logistic(size=1000), hist=False)\n",
    "plt.show()"
   ]
  },
  {
   "cell_type": "code",
   "execution_count": 46,
   "id": "84074b07-0ffc-4900-a858-bb7863774546",
   "metadata": {},
   "outputs": [
    {
     "name": "stdout",
     "output_type": "stream",
     "text": [
      "[2 1 0 2 1 0]\n"
     ]
    }
   ],
   "source": [
    "#multinomial distribution\n",
    "#Draw out a sample for dice roll:\n",
    "from numpy import random\n",
    "x = random.multinomial(n=6, pvals=[1/6, 1/6, 1/6, 1/6, 1/6, 1/6])\n",
    "print(x)"
   ]
  },
  {
   "cell_type": "code",
   "execution_count": 47,
   "id": "38a6021a-fcd7-452f-8d8d-36ebd68b477d",
   "metadata": {},
   "outputs": [
    {
     "name": "stdout",
     "output_type": "stream",
     "text": [
      "[[1.23305322 0.70399824 5.72190895]\n",
      " [1.31519938 3.02883514 0.85562328]]\n"
     ]
    }
   ],
   "source": [
    "#Exponential distribution\n",
    "#Draw out a sample for exponential distribution with 2.0 scale with 2x3 size:\n",
    "from numpy import random\n",
    "x = random.exponential(scale=2, size=(2, 3))\n",
    "print(x)"
   ]
  },
  {
   "cell_type": "code",
   "execution_count": 48,
   "id": "e98d4357-f20d-4901-aa31-00da6baf9cd7",
   "metadata": {},
   "outputs": [
    {
     "name": "stderr",
     "output_type": "stream",
     "text": [
      "C:\\Users\\vansh\\AppData\\Local\\Temp\\ipykernel_13200\\2093046169.py:5: UserWarning: \n",
      "\n",
      "`distplot` is a deprecated function and will be removed in seaborn v0.14.0.\n",
      "\n",
      "Please adapt your code to use either `displot` (a figure-level function with\n",
      "similar flexibility) or `kdeplot` (an axes-level function for kernel density plots).\n",
      "\n",
      "For a guide to updating your code to use the new functions, please see\n",
      "https://gist.github.com/mwaskom/de44147ed2974457ad6372750bbe5751\n",
      "\n",
      "  sns.distplot(random.exponential(size=1000), hist=False)\n",
      "C:\\Users\\vansh\\anaconda3\\Lib\\site-packages\\seaborn\\_oldcore.py:1119: FutureWarning: use_inf_as_na option is deprecated and will be removed in a future version. Convert inf values to NaN before operating instead.\n",
      "  with pd.option_context('mode.use_inf_as_na', True):\n"
     ]
    },
    {
     "data": {
      "image/png": "[encoded data removed]",
      "text/plain": [
       "<Figure size 640x480 with 1 Axes>"
      ]
     },
     "metadata": {},
     "output_type": "display_data"
    }
   ],
   "source": [
    "#Visualization of Exponential Distribution\n",
    "from numpy import random\n",
    "import matplotlib.pyplot as plt\n",
    "import seaborn as sns\n",
    "sns.distplot(random.exponential(size=1000), hist=False)\n",
    "plt.show()"
   ]
  },
  {
   "cell_type": "code",
   "execution_count": 49,
   "id": "d8dff4d9-73ea-4734-8e4d-c8190471500a",
   "metadata": {},
   "outputs": [
    {
     "name": "stdout",
     "output_type": "stream",
     "text": [
      "[[0.70959006 0.43827942 3.71124677]\n",
      " [0.8256964  1.07208353 2.449329  ]]\n"
     ]
    }
   ],
   "source": [
    "#chi square distribution\n",
    "#Draw out a sample for chi squared distribution with degree of freedom 2 with size 2x3:\n",
    "from numpy import random\n",
    "x = random.chisquare(df=2, size=(2, 3))\n",
    "print(x)"
   ]
  },
  {
   "cell_type": "code",
   "execution_count": 50,
   "id": "a42a950b-f7ea-4cba-86ff-b3dbab6fe787",
   "metadata": {},
   "outputs": [
    {
     "name": "stderr",
     "output_type": "stream",
     "text": [
      "C:\\Users\\vansh\\AppData\\Local\\Temp\\ipykernel_13200\\2720876206.py:5: UserWarning: \n",
      "\n",
      "`distplot` is a deprecated function and will be removed in seaborn v0.14.0.\n",
      "\n",
      "Please adapt your code to use either `displot` (a figure-level function with\n",
      "similar flexibility) or `kdeplot` (an axes-level function for kernel density plots).\n",
      "\n",
      "For a guide to updating your code to use the new functions, please see\n",
      "https://gist.github.com/mwaskom/de44147ed2974457ad6372750bbe5751\n",
      "\n",
      "  sns.distplot(random.chisquare(df=1, size=1000), hist=False)\n",
      "C:\\Users\\vansh\\anaconda3\\Lib\\site-packages\\seaborn\\_oldcore.py:1119: FutureWarning: use_inf_as_na option is deprecated and will be removed in a future version. Convert inf values to NaN before operating instead.\n",
      "  with pd.option_context('mode.use_inf_as_na', True):\n"
     ]
    },
    {
     "data": {
      "image/png": "[encoded data removed]",
      "text/plain": [
       "<Figure size 640x480 with 1 Axes>"
      ]
     },
     "metadata": {},
     "output_type": "display_data"
    }
   ],
   "source": [
    "#Visualization of Chi Square Distribution\n",
    "from numpy import random\n",
    "import matplotlib.pyplot as plt\n",
    "import seaborn as sns\n",
    "sns.distplot(random.chisquare(df=1, size=1000), hist=False)\n",
    "plt.show()"
   ]
  },
  {
   "cell_type": "code",
   "execution_count": 51,
   "id": "3cd57a1c-ae0a-4041-99f3-0c50cc3e9183",
   "metadata": {},
   "outputs": [
    {
     "name": "stdout",
     "output_type": "stream",
     "text": [
      "[[1.74071154 2.97783844 1.99159571]\n",
      " [3.15644107 3.63122069 2.42365183]]\n"
     ]
    }
   ],
   "source": [
    "#rayleigh distribution\n",
    "#Draw out a sample for rayleigh distribution with scale of 2 with size 2x3:\n",
    "from numpy import random\n",
    "x = random.rayleigh(scale=2, size=(2, 3))\n",
    "print(x)"
   ]
  },
  {
   "cell_type": "code",
   "execution_count": 52,
   "id": "468e5e2d-d6d1-4fb0-8f83-c7b34cbd6b21",
   "metadata": {},
   "outputs": [
    {
     "name": "stderr",
     "output_type": "stream",
     "text": [
      "C:\\Users\\vansh\\AppData\\Local\\Temp\\ipykernel_13200\\703971003.py:5: UserWarning: \n",
      "\n",
      "`distplot` is a deprecated function and will be removed in seaborn v0.14.0.\n",
      "\n",
      "Please adapt your code to use either `displot` (a figure-level function with\n",
      "similar flexibility) or `kdeplot` (an axes-level function for kernel density plots).\n",
      "\n",
      "For a guide to updating your code to use the new functions, please see\n",
      "https://gist.github.com/mwaskom/de44147ed2974457ad6372750bbe5751\n",
      "\n",
      "  sns.distplot(random.rayleigh(size=1000), hist=False)\n",
      "C:\\Users\\vansh\\anaconda3\\Lib\\site-packages\\seaborn\\_oldcore.py:1119: FutureWarning: use_inf_as_na option is deprecated and will be removed in a future version. Convert inf values to NaN before operating instead.\n",
      "  with pd.option_context('mode.use_inf_as_na', True):\n"
     ]
    },
    {
     "data": {
      "image/png": "[encoded data removed]",
      "text/plain": [
       "<Figure size 640x480 with 1 Axes>"
      ]
     },
     "metadata": {},
     "output_type": "display_data"
    }
   ],
   "source": [
    "#Visualization of Rayleigh Distribution\n",
    "from numpy import random\n",
    "import matplotlib.pyplot as plt\n",
    "import seaborn as sns\n",
    "sns.distplot(random.rayleigh(size=1000), hist=False)\n",
    "plt.show()"
   ]
  },
  {
   "cell_type": "code",
   "execution_count": 53,
   "id": "09363363-3750-4f07-8e8f-60cbb2c9dcff",
   "metadata": {},
   "outputs": [
    {
     "name": "stdout",
     "output_type": "stream",
     "text": [
      "[[0.23881582 1.09930516 0.56642354]\n",
      " [0.06717424 1.40328214 0.23915454]]\n"
     ]
    }
   ],
   "source": [
    "#pareto distribution\n",
    "#Draw out a sample for pareto distribution with shape of 2 with size 2x3:\n",
    "from numpy import random\n",
    "x = random.pareto(a=2, size=(2, 3))\n",
    "print(x)"
   ]
  },
  {
   "cell_type": "code",
   "execution_count": 54,
   "id": "81dafcdd-1091-4332-8be6-2c04eba95e11",
   "metadata": {},
   "outputs": [
    {
     "name": "stderr",
     "output_type": "stream",
     "text": [
      "C:\\Users\\vansh\\AppData\\Local\\Temp\\ipykernel_13200\\662567594.py:5: UserWarning: \n",
      "\n",
      "`distplot` is a deprecated function and will be removed in seaborn v0.14.0.\n",
      "\n",
      "Please adapt your code to use either `displot` (a figure-level function with\n",
      "similar flexibility) or `histplot` (an axes-level function for histograms).\n",
      "\n",
      "For a guide to updating your code to use the new functions, please see\n",
      "https://gist.github.com/mwaskom/de44147ed2974457ad6372750bbe5751\n",
      "\n",
      "  sns.distplot(random.pareto(a=2, size=1000), kde=False)\n"
     ]
    },
    {
     "data": {
      "image/png": "[encoded data removed]",
      "text/plain": [
       "<Figure size 640x480 with 1 Axes>"
      ]
     },
     "metadata": {},
     "output_type": "display_data"
    }
   ],
   "source": [
    "#Visualization of Pareto Distribution\n",
    "from numpy import random\n",
    "import matplotlib.pyplot as plt\n",
    "import seaborn as sns\n",
    "sns.distplot(random.pareto(a=2, size=1000), kde=False)\n",
    "plt.show()"
   ]
  },
  {
   "cell_type": "code",
   "execution_count": 57,
   "id": "366e3ef6-54b2-4922-9f89-34e255df7143",
   "metadata": {},
   "outputs": [
    {
     "name": "stdout",
     "output_type": "stream",
     "text": [
      "[[2 1 1]\n",
      " [1 1 1]]\n"
     ]
    }
   ],
   "source": [
    "#zipf distribution\n",
    "#Draw out a sample for zipf distribution with distribution parameter 2 with size 2x3:\n",
    "from numpy import random\n",
    "x = random.zipf(a=2, size=(2, 3))\n",
    "print(x)"
   ]
  },
  {
   "cell_type": "code",
   "execution_count": 58,
   "id": "4bf2e010-4b8a-4f2f-bbbb-61c5cf72fce6",
   "metadata": {},
   "outputs": [
    {
     "name": "stderr",
     "output_type": "stream",
     "text": [
      "C:\\Users\\vansh\\AppData\\Local\\Temp\\ipykernel_13200\\1012834070.py:7: UserWarning: \n",
      "\n",
      "`distplot` is a deprecated function and will be removed in seaborn v0.14.0.\n",
      "\n",
      "Please adapt your code to use either `displot` (a figure-level function with\n",
      "similar flexibility) or `histplot` (an axes-level function for histograms).\n",
      "\n",
      "For a guide to updating your code to use the new functions, please see\n",
      "https://gist.github.com/mwaskom/de44147ed2974457ad6372750bbe5751\n",
      "\n",
      "  sns.distplot(x[x<10], kde=False)\n"
     ]
    },
    {
     "data": {
      "image/png": "[encoded data removed]",
      "text/plain": [
       "<Figure size 640x480 with 1 Axes>"
      ]
     },
     "metadata": {},
     "output_type": "display_data"
    }
   ],
   "source": [
    "#Visualization of Zipf Distribution\n",
    "#Sample 1000 points but plotting only ones with value < 10 for more meaningful chart.\n",
    "from numpy import random\n",
    "import matplotlib.pyplot as plt\n",
    "import seaborn as sns\n",
    "x = random.zipf(a=2, size=1000)\n",
    "sns.distplot(x[x<10], kde=False)\n",
    "plt.show()"
   ]
  },
  {
   "cell_type": "markdown",
   "id": "f94038aa-3f39-4c33-87cb-0812bfa35243",
   "metadata": {},
   "source": [
    "ufuncs stands for \"Universal Functions\" and they are NumPy functions that operate on the ndarray object."
   ]
  },
  {
   "cell_type": "code",
   "execution_count": 59,
   "id": "30011109-b7af-49e3-9b54-22e46f7c99ef",
   "metadata": {},
   "outputs": [
    {
     "name": "stdout",
     "output_type": "stream",
     "text": [
      "[5, 7, 9, 11]\n"
     ]
    }
   ],
   "source": [
    "#Without ufunc, we can use Python's built-in zip() method:\n",
    "x = [1, 2, 3, 4]\n",
    "y = [4, 5, 6, 7]\n",
    "z = []\n",
    "for i, j in zip(x, y):\n",
    "  z.append(i + j)\n",
    "print(z)"
   ]
  },
  {
   "cell_type": "code",
   "execution_count": 60,
   "id": "ff5e5390-a65a-4ff2-8602-91d644a7d560",
   "metadata": {},
   "outputs": [
    {
     "name": "stdout",
     "output_type": "stream",
     "text": [
      "[ 5  7  9 11]\n"
     ]
    }
   ],
   "source": [
    "#With ufunc, we can use the add() function:\n",
    "import numpy as np\n",
    "x = [1, 2, 3, 4]\n",
    "y = [4, 5, 6, 7]\n",
    "z = np.add(x, y)\n",
    "print(z)"
   ]
  },
  {
   "cell_type": "code",
   "execution_count": 62,
   "id": "ed4c3fdf-291f-4a04-82e8-0d47be5896ac",
   "metadata": {},
   "outputs": [
    {
     "name": "stdout",
     "output_type": "stream",
     "text": [
      "[1, 2, 3, 4, 5, 6, 7, 8]\n"
     ]
    }
   ],
   "source": [
    "#Create your own ufunc for addition:\n",
    "import numpy as np\n",
    "def add(x, y):\n",
    "  return x+y\n",
    "myadd = np.frompyfunc(add, 4, 2)\n",
    "print(add([1, 2, 3, 4], [5, 6, 7, 8]))"
   ]
  },
  {
   "cell_type": "code",
   "execution_count": 1,
   "id": "26fc4718-9bb1-48ec-9d62-2d94ff1ef55b",
   "metadata": {},
   "outputs": [
    {
     "name": "stdout",
     "output_type": "stream",
     "text": [
      "<class 'numpy.ufunc'>\n"
     ]
    }
   ],
   "source": [
    "#Check if a function is a ufunc:\n",
    "import numpy as np\n",
    "print(type(np.add))"
   ]
  },
  {
   "cell_type": "code",
   "execution_count": 2,
   "id": "5821f6c9-f04b-47e7-a386-6721e43e9a4c",
   "metadata": {},
   "outputs": [
    {
     "name": "stdout",
     "output_type": "stream",
     "text": [
      "<class 'numpy._ArrayFunctionDispatcher'>\n"
     ]
    }
   ],
   "source": [
    "#Check the type of another function: concatenate():\n",
    "import numpy as np\n",
    "print(type(np.concatenate))"
   ]
  },
  {
   "cell_type": "code",
   "execution_count": 3,
   "id": "c6dacd4a-35e9-4d7f-a42b-9ebddd0675ed",
   "metadata": {},
   "outputs": [
    {
     "name": "stdout",
     "output_type": "stream",
     "text": [
      "add is ufunc\n"
     ]
    }
   ],
   "source": [
    "#Use an if statement to check if the function is a ufunc or not:\n",
    "import numpy as np\n",
    "if type(np.add) == np.ufunc:\n",
    "  print('add is ufunc')\n",
    "else:\n",
    "  print('add is not ufunc')"
   ]
  },
  {
   "cell_type": "code",
   "execution_count": 5,
   "id": "7deb61e4-447d-41aa-883d-981d710b9ba6",
   "metadata": {},
   "outputs": [
    {
     "name": "stdout",
     "output_type": "stream",
     "text": [
      "[ 7  9 11 13 15]\n"
     ]
    }
   ],
   "source": [
    "#Add the values in arr1 to the values in arr2:\n",
    "import numpy as np\n",
    "arr1 = np.array([1,2,3,4,5])\n",
    "arr2 = np.array([6,7,8,9,10])\n",
    "newarr = np.add(arr1, arr2)\n",
    "print(newarr)"
   ]
  },
  {
   "cell_type": "code",
   "execution_count": 7,
   "id": "34ea3e57-63ce-4dc9-b14c-14e40a28ceef",
   "metadata": {},
   "outputs": [
    {
     "name": "stdout",
     "output_type": "stream",
     "text": [
      "[-5 -5 -5 -5 -5]\n"
     ]
    }
   ],
   "source": [
    "#subtract the values in arr2 from the values in arr1:\n",
    "import numpy as np\n",
    "arr1 = np.array([1,2,3,4,5])\n",
    "arr2 = np.array([6,7,8,9,10])\n",
    "newarr = np.subtract(arr1, arr2)\n",
    "print(newarr)"
   ]
  },
  {
   "cell_type": "code",
   "execution_count": 8,
   "id": "41dc5378-9d10-4f58-8c16-c8ce8fed9b3c",
   "metadata": {},
   "outputs": [
    {
     "name": "stdout",
     "output_type": "stream",
     "text": [
      "[ 6 14 24 36 50]\n"
     ]
    }
   ],
   "source": [
    "#Multiply the values in arr1 with the values in arr2:\n",
    "import numpy as np\n",
    "arr1 = np.array([1,2,3,4,5])\n",
    "arr2 = np.array([6,7,8,9,10])\n",
    "newarr = np.multiply(arr1, arr2)\n",
    "print(newarr)"
   ]
  },
  {
   "cell_type": "code",
   "execution_count": 9,
   "id": "3f3ffe9b-57d4-48f3-8f1f-6cb008ca08c5",
   "metadata": {},
   "outputs": [
    {
     "name": "stdout",
     "output_type": "stream",
     "text": [
      "[0.16666667 0.28571429 0.375      0.44444444 0.5       ]\n"
     ]
    }
   ],
   "source": [
    "#Divide the values in arr1 with the values in arr2:\n",
    "import numpy as np\n",
    "arr1 = np.array([1,2,3,4,5])\n",
    "arr2 = np.array([6,7,8,9,10])\n",
    "newarr = np.divide(arr1, arr2)\n",
    "print(newarr)"
   ]
  },
  {
   "cell_type": "code",
   "execution_count": 11,
   "id": "9c960213-7db8-4ac1-9cab-d691c8eb724e",
   "metadata": {},
   "outputs": [
    {
     "name": "stdout",
     "output_type": "stream",
     "text": [
      "[     6     49    512   6561 100000]\n"
     ]
    }
   ],
   "source": [
    "#Raise the valules in arr2 to the power of values in arr1:\n",
    "import numpy as np\n",
    "arr1 = np.array([1,2,3,4,5])\n",
    "arr2 = np.array([6,7,8,9,10])\n",
    "newarr = np.power(arr2, arr1)\n",
    "print(newarr)"
   ]
  },
  {
   "cell_type": "code",
   "execution_count": 12,
   "id": "31d07fc4-822a-416e-b22d-4495ebc86f9c",
   "metadata": {},
   "outputs": [
    {
     "name": "stdout",
     "output_type": "stream",
     "text": [
      "[1 2 3 4 5]\n"
     ]
    }
   ],
   "source": [
    "#Return the remainders:\n",
    "import numpy as np\n",
    "arr1 = np.array([1,2,3,4,5])\n",
    "arr2 = np.array([6,7,8,9,10])\n",
    "newarr = np.mod(arr1, arr2)\n",
    "print(newarr)"
   ]
  },
  {
   "cell_type": "code",
   "execution_count": 13,
   "id": "01f0878e-7e42-4dfb-9bf3-aa0a46bdd78b",
   "metadata": {},
   "outputs": [
    {
     "name": "stdout",
     "output_type": "stream",
     "text": [
      "[1 2 3 4 5]\n"
     ]
    }
   ],
   "source": [
    "#Return the remainders:\n",
    "import numpy as np\n",
    "arr1 = np.array([1,2,3,4,5])\n",
    "arr2 = np.array([6,7,8,9,10])\n",
    "newarr = np.remainder(arr1, arr2)\n",
    "print(newarr)"
   ]
  },
  {
   "cell_type": "code",
   "execution_count": 14,
   "id": "66836d7f-5c94-4950-a8c8-3aaa43610173",
   "metadata": {},
   "outputs": [
    {
     "name": "stdout",
     "output_type": "stream",
     "text": [
      "(array([0, 0, 0, 0, 0]), array([1, 2, 3, 4, 5]))\n"
     ]
    }
   ],
   "source": [
    "#Return the quotient and mod:\n",
    "import numpy as np\n",
    "arr1 = np.array([1,2,3,4,5])\n",
    "arr2 = np.array([6,7,8,9,10])\n",
    "newarr = np.divmod(arr1, arr2)\n",
    "print(newarr)"
   ]
  },
  {
   "cell_type": "code",
   "execution_count": 15,
   "id": "3d4c6739-0c0b-45e6-a9b5-5ce580cff547",
   "metadata": {},
   "outputs": [
    {
     "name": "stdout",
     "output_type": "stream",
     "text": [
      "[1 2 1 2 3 4]\n"
     ]
    }
   ],
   "source": [
    "# find absolute value\n",
    "import numpy as np\n",
    "arr = np.array([-1, -2, 1, 2, 3, -4])\n",
    "newarr = np.absolute(arr)\n",
    "print(newarr)"
   ]
  },
  {
   "cell_type": "code",
   "execution_count": 17,
   "id": "2564af7a-a7db-4981-a671-0c42ec2da85f",
   "metadata": {},
   "outputs": [
    {
     "name": "stdout",
     "output_type": "stream",
     "text": [
      "[ 1. -0.]\n"
     ]
    }
   ],
   "source": [
    "#Truncate elements of following array:\n",
    "import numpy as np\n",
    "arr = np.trunc([1.72738, -0.6262764])\n",
    "print(arr)"
   ]
  },
  {
   "cell_type": "code",
   "execution_count": 18,
   "id": "824e0442-204e-4505-8448-00a6579833c3",
   "metadata": {},
   "outputs": [
    {
     "name": "stdout",
     "output_type": "stream",
     "text": [
      "[ 1. -0.]\n"
     ]
    }
   ],
   "source": [
    "#using fix\n",
    "import numpy as np\n",
    "arr = np.fix([1.72738, -0.6262764])\n",
    "print(arr)"
   ]
  },
  {
   "cell_type": "code",
   "execution_count": 21,
   "id": "19bd2d43-fa0e-42b0-8ec5-c28cb1e604a5",
   "metadata": {},
   "outputs": [
    {
     "name": "stdout",
     "output_type": "stream",
     "text": [
      "4.23\n"
     ]
    }
   ],
   "source": [
    "#Round off a number to 2 decimal places:\n",
    "import numpy as np\n",
    "arr = np.around(4.2338, 2)\n",
    "print(arr)"
   ]
  },
  {
   "cell_type": "code",
   "execution_count": 23,
   "id": "1ef656da-036e-4343-b7e6-3e50741fab9a",
   "metadata": {},
   "outputs": [
    {
     "name": "stdout",
     "output_type": "stream",
     "text": [
      "[ 2.  1. -9. -3.]\n"
     ]
    }
   ],
   "source": [
    "#Floor the elements of following array:\n",
    "import numpy as np\n",
    "arr = np.floor([2.939,1.123,-8.32,-2.93])\n",
    "print(arr)"
   ]
  },
  {
   "cell_type": "code",
   "execution_count": 24,
   "id": "51cba95e-f1f8-489f-b0f8-249a840186d0",
   "metadata": {},
   "outputs": [
    {
     "name": "stdout",
     "output_type": "stream",
     "text": [
      "[ 3.  2. -8. -2.]\n"
     ]
    }
   ],
   "source": [
    "#Ceil the elements of following array:\n",
    "import numpy as np\n",
    "arr = np.ceil([2.939,1.123,-8.32,-2.93])\n",
    "print(arr)"
   ]
  },
  {
   "cell_type": "code",
   "execution_count": 28,
   "id": "b9b4d21a-956d-4eb8-b04e-0604ade5ba1c",
   "metadata": {},
   "outputs": [
    {
     "name": "stdout",
     "output_type": "stream",
     "text": [
      "[0.         1.         1.5849625  2.         2.32192809]\n"
     ]
    }
   ],
   "source": [
    "#Find log at base 2 of all elements of following array:\n",
    "import numpy as np\n",
    "arr = np.arange(1,6)\n",
    "print(np.log2(arr))"
   ]
  },
  {
   "cell_type": "code",
   "execution_count": 29,
   "id": "8a276cee-ae64-4d55-af4c-ce02c942cc38",
   "metadata": {},
   "outputs": [
    {
     "name": "stdout",
     "output_type": "stream",
     "text": [
      "[0.         0.30103    0.47712125 0.60205999 0.69897   ]\n"
     ]
    }
   ],
   "source": [
    "#Find log at base 10 of all elements of following array:\n",
    "import numpy as np\n",
    "arr = np.arange(1,6)\n",
    "print(np.log10(arr))"
   ]
  },
  {
   "cell_type": "code",
   "execution_count": 30,
   "id": "fe0d8b4c-57c7-47a4-a8e6-3d9d8507680b",
   "metadata": {},
   "outputs": [
    {
     "name": "stdout",
     "output_type": "stream",
     "text": [
      "[0.         0.69314718 1.09861229 1.38629436 1.60943791]\n"
     ]
    }
   ],
   "source": [
    "#Find log at base e of all elements of following array:\n",
    "import numpy as np\n",
    "arr = np.arange(1,6)\n",
    "print(np.log(arr))"
   ]
  },
  {
   "cell_type": "code",
   "execution_count": 33,
   "id": "88771699-d416-4ad3-88c1-bef2b68eb05b",
   "metadata": {},
   "outputs": [
    {
     "name": "stdout",
     "output_type": "stream",
     "text": [
      "1.7005483074552052\n"
     ]
    }
   ],
   "source": [
    "from math import log\n",
    "import numpy as np\n",
    "nplog = np.frompyfunc(log, 2, 1)\n",
    "print(nplog(100, 15))"
   ]
  },
  {
   "cell_type": "code",
   "execution_count": 34,
   "id": "2ac50ca4-8686-4dd9-aa75-824ff9cab19b",
   "metadata": {},
   "outputs": [
    {
     "name": "stdout",
     "output_type": "stream",
     "text": [
      "12\n"
     ]
    }
   ],
   "source": [
    "#Sum the values in arr1 and the values in arr2:\n",
    "import numpy as np\n",
    "arr1 = np.array([1, 2, 3])\n",
    "arr2 = np.array([1, 2, 3])\n",
    "newarr = np.sum([arr1, arr2])\n",
    "print(newarr)"
   ]
  },
  {
   "cell_type": "code",
   "execution_count": 35,
   "id": "0d787d2b-f196-4da5-8655-0112f0b8c771",
   "metadata": {},
   "outputs": [
    {
     "name": "stdout",
     "output_type": "stream",
     "text": [
      "[6 6]\n"
     ]
    }
   ],
   "source": [
    "#Perform summation in the following array over 1st axis:\n",
    "import numpy as np\n",
    "arr1 = np.array([1, 2, 3])\n",
    "arr2 = np.array([1, 2, 3])\n",
    "newarr = np.sum([arr1, arr2], axis=1)\n",
    "print(newarr)"
   ]
  },
  {
   "cell_type": "code",
   "execution_count": 37,
   "id": "ef4b8b74-ee1a-4c3e-9047-cc0799a9130c",
   "metadata": {},
   "outputs": [
    {
     "name": "stdout",
     "output_type": "stream",
     "text": [
      "[ 1  3  6 10 15 21]\n"
     ]
    }
   ],
   "source": [
    "#Perform cummulative summation in the following array:\n",
    "import numpy as np\n",
    "arr = np.array([1,2,3,4,5,6])\n",
    "newarr = np.cumsum(arr)\n",
    "print(newarr)"
   ]
  },
  {
   "cell_type": "code",
   "execution_count": 38,
   "id": "a20c04d6-d685-4e83-9c00-0d96759246a2",
   "metadata": {},
   "outputs": [
    {
     "name": "stdout",
     "output_type": "stream",
     "text": [
      "24\n"
     ]
    }
   ],
   "source": [
    "#Find the product of the elements of this array:\n",
    "import numpy as np\n",
    "arr = np.array([1, 2, 3, 4])\n",
    "x = np.prod(arr)\n",
    "print(x)"
   ]
  },
  {
   "cell_type": "code",
   "execution_count": 39,
   "id": "0298d00e-cf5a-490c-a02b-43fc9772a46f",
   "metadata": {},
   "outputs": [
    {
     "name": "stdout",
     "output_type": "stream",
     "text": [
      "320\n"
     ]
    }
   ],
   "source": [
    "#Find the product of the elements of two arrays:\n",
    "import numpy as np\n",
    "arr1 = np.array([2,4,1,1])\n",
    "arr2 = np.array([5,4,2,1])\n",
    "x = np.prod([arr1, arr2])\n",
    "print(x)"
   ]
  },
  {
   "cell_type": "code",
   "execution_count": 40,
   "id": "f913d0b1-636c-4dea-a8ca-bee42dc5e7a6",
   "metadata": {},
   "outputs": [
    {
     "name": "stdout",
     "output_type": "stream",
     "text": [
      "[  24 1680]\n"
     ]
    }
   ],
   "source": [
    "#Perform product in the following array over 1st axis:\n",
    "import numpy as np\n",
    "arr1 = np.array([1, 2, 3, 4])\n",
    "arr2 = np.array([5, 6, 7, 8])\n",
    "newarr = np.prod([arr1, arr2], axis=1)\n",
    "print(newarr)"
   ]
  },
  {
   "cell_type": "code",
   "execution_count": 41,
   "id": "ab6de1c4-e17d-4e27-b469-e99de0228a65",
   "metadata": {},
   "outputs": [
    {
     "name": "stdout",
     "output_type": "stream",
     "text": [
      "[   5   30  210 1680]\n"
     ]
    }
   ],
   "source": [
    "#Take cummulative product of all elements for following array:\n",
    "import numpy as np\n",
    "arr = np.array([5, 6, 7, 8])\n",
    "newarr = np.cumprod(arr)\n",
    "print(newarr)"
   ]
  },
  {
   "cell_type": "code",
   "execution_count": 43,
   "id": "165defd0-c59e-4ce9-80d4-1a1b20cb6975",
   "metadata": {},
   "outputs": [
    {
     "name": "stdout",
     "output_type": "stream",
     "text": [
      "[ 4 -4  1  6 -5]\n"
     ]
    }
   ],
   "source": [
    "#Compute discrete difference of the following array:\n",
    "import numpy as np\n",
    "arr = np.array([1,5,1,2,8,3])\n",
    "newarr = np.diff(arr)\n",
    "print(newarr)"
   ]
  },
  {
   "cell_type": "code",
   "execution_count": 44,
   "id": "316d4eda-5ddf-4124-b891-b0d13b8d0350",
   "metadata": {},
   "outputs": [
    {
     "name": "stdout",
     "output_type": "stream",
     "text": [
      "[ -8   5   5 -11]\n"
     ]
    }
   ],
   "source": [
    "#Compute discrete difference of the following array twice:\n",
    "import numpy as np\n",
    "arr = np.array([1,5,1,2,8,3])\n",
    "newarr = np.diff(arr,n=2)\n",
    "print(newarr)"
   ]
  },
  {
   "cell_type": "code",
   "execution_count": 45,
   "id": "939f91bc-16a2-494a-a96a-38a696c75bb0",
   "metadata": {},
   "outputs": [
    {
     "name": "stdout",
     "output_type": "stream",
     "text": [
      "12\n"
     ]
    }
   ],
   "source": [
    "#Find the LCM of the following two numbers:\n",
    "import numpy as np\n",
    "num1 = 4\n",
    "num2 = 6\n",
    "x = np.lcm(num1, num2)\n",
    "print(x)"
   ]
  },
  {
   "cell_type": "code",
   "execution_count": 46,
   "id": "23a37a10-3b48-40be-ad43-5d5d823bb33a",
   "metadata": {},
   "outputs": [
    {
     "name": "stdout",
     "output_type": "stream",
     "text": [
      "18\n"
     ]
    }
   ],
   "source": [
    "#Find the LCM of the values of the following array:\n",
    "import numpy as np\n",
    "arr = np.array([3, 6, 9])\n",
    "x = np.lcm.reduce(arr)\n",
    "print(x)\n"
   ]
  },
  {
   "cell_type": "code",
   "execution_count": 47,
   "id": "d2f62a9a-d53a-4513-875a-21c1aed67c73",
   "metadata": {},
   "outputs": [
    {
     "name": "stdout",
     "output_type": "stream",
     "text": [
      "2520\n"
     ]
    }
   ],
   "source": [
    "#Find the LCM of all values of an array where the array contains all integers from 1 to 10:\n",
    "import numpy as np\n",
    "arr = np.arange(1, 11)\n",
    "x = np.lcm.reduce(arr)\n",
    "print(x)"
   ]
  },
  {
   "cell_type": "code",
   "execution_count": 48,
   "id": "4903b382-5f6d-4908-86e7-b78b77d79ab3",
   "metadata": {},
   "outputs": [
    {
     "name": "stdout",
     "output_type": "stream",
     "text": [
      "3\n"
     ]
    }
   ],
   "source": [
    "#Find the HCF of the following two numbers:\n",
    "import numpy as np\n",
    "num1 = 6\n",
    "num2 = 9\n",
    "x = np.gcd(num1, num2)\n",
    "print(x)"
   ]
  },
  {
   "cell_type": "code",
   "execution_count": 49,
   "id": "fe9c50e4-b699-481a-8c64-2f13efb1dc7e",
   "metadata": {},
   "outputs": [
    {
     "name": "stdout",
     "output_type": "stream",
     "text": [
      "4\n"
     ]
    }
   ],
   "source": [
    "#Find the GCD for all of the numbers in the following array:\n",
    "import numpy as np\n",
    "arr = np.array([20, 8, 32, 36, 16])\n",
    "x = np.gcd.reduce(arr)\n",
    "print(x)"
   ]
  },
  {
   "cell_type": "code",
   "execution_count": 50,
   "id": "27fd878e-c9ad-475a-9b47-970d57d68193",
   "metadata": {},
   "outputs": [
    {
     "name": "stdout",
     "output_type": "stream",
     "text": [
      "1.0\n"
     ]
    }
   ],
   "source": [
    "#Find sine value of PI/2:\n",
    "import numpy as np\n",
    "x = np.sin(np.pi/2)\n",
    "print(x)"
   ]
  },
  {
   "cell_type": "code",
   "execution_count": 51,
   "id": "cf665bfd-193c-49d5-a9bb-f4c59cf7657d",
   "metadata": {},
   "outputs": [
    {
     "name": "stdout",
     "output_type": "stream",
     "text": [
      "[1.         0.8660254  0.70710678 0.58778525]\n"
     ]
    }
   ],
   "source": [
    "#Find sine values for all of the values in arr:\n",
    "import numpy as np\n",
    "arr = np.array([np.pi/2, np.pi/3, np.pi/4, np.pi/5])\n",
    "x = np.sin(arr)\n",
    "print(x)"
   ]
  },
  {
   "cell_type": "code",
   "execution_count": 52,
   "id": "f06e113d-b64d-4c51-a040-94a9fed685a8",
   "metadata": {},
   "outputs": [
    {
     "name": "stdout",
     "output_type": "stream",
     "text": [
      "[1.57079633 3.14159265 4.71238898 6.28318531]\n"
     ]
    }
   ],
   "source": [
    "#Convert all of the values in following array arr to radians:\n",
    "import numpy as np\n",
    "arr = np.array([90, 180, 270, 360])\n",
    "x = np.deg2rad(arr)\n",
    "print(x)"
   ]
  },
  {
   "cell_type": "code",
   "execution_count": 53,
   "id": "ef34980f-5668-46e7-a3ef-0545454795bf",
   "metadata": {},
   "outputs": [
    {
     "name": "stdout",
     "output_type": "stream",
     "text": [
      "[ 90. 180. 270. 360.]\n"
     ]
    }
   ],
   "source": [
    "#Convert all of the values in following array arr to degrees:\n",
    "import numpy as np\n",
    "arr = np.array([np.pi/2, np.pi, 1.5*np.pi, 2*np.pi])\n",
    "x = np.rad2deg(arr)\n",
    "print(x)"
   ]
  },
  {
   "cell_type": "code",
   "execution_count": 54,
   "id": "90b8d948-5a88-4e02-a003-703228bb9d1c",
   "metadata": {},
   "outputs": [
    {
     "name": "stdout",
     "output_type": "stream",
     "text": [
      "1.5707963267948966\n"
     ]
    }
   ],
   "source": [
    "#Find the angle of 1.0:\n",
    "import numpy as np\n",
    "x = np.arcsin(1.0)\n",
    "print(x)"
   ]
  },
  {
   "cell_type": "code",
   "execution_count": 55,
   "id": "be8fb9fc-7a9f-4f0d-af05-fc052462c557",
   "metadata": {},
   "outputs": [
    {
     "name": "stdout",
     "output_type": "stream",
     "text": [
      "[ 1.57079633 -1.57079633  0.10016742]\n"
     ]
    }
   ],
   "source": [
    "#Find the angle for all of the sine values in the array\n",
    "import numpy as np\n",
    "arr = np.array([1, -1, 0.1])\n",
    "x = np.arcsin(arr)\n",
    "print(x)"
   ]
  },
  {
   "cell_type": "code",
   "execution_count": 56,
   "id": "ba067ed5-b253-4beb-9db4-f2d7e0f8cadf",
   "metadata": {},
   "outputs": [
    {
     "name": "stdout",
     "output_type": "stream",
     "text": [
      "5.0\n"
     ]
    }
   ],
   "source": [
    "#Find the hypotenues for 4 base and 3 perpendicular:\n",
    "import numpy as np\n",
    "base = 3\n",
    "perp = 4\n",
    "x = np.hypot(base, perp)\n",
    "print(x)"
   ]
  },
  {
   "cell_type": "code",
   "execution_count": 57,
   "id": "e8024c65-0051-4303-a814-6dba58244194",
   "metadata": {},
   "outputs": [
    {
     "name": "stdout",
     "output_type": "stream",
     "text": [
      "[1 2 3 4 5 6 7]\n"
     ]
    }
   ],
   "source": [
    "#Convert following array with repeated elements to a set:\n",
    "import numpy as np\n",
    "arr = np.array([1, 1, 1, 2, 3, 4, 5, 5, 6, 7])\n",
    "x = np.unique(arr)\n",
    "print(x)"
   ]
  },
  {
   "cell_type": "code",
   "execution_count": 58,
   "id": "32fd551e-4ff4-484b-9fc3-e4b79fc62a28",
   "metadata": {},
   "outputs": [
    {
     "name": "stdout",
     "output_type": "stream",
     "text": [
      "[1 2 3 4 5 6]\n"
     ]
    }
   ],
   "source": [
    "#Find union of the following two set arrays:\n",
    "import numpy as np\n",
    "arr1 = np.array([1, 2, 3, 4])\n",
    "arr2 = np.array([3, 4, 5, 6])\n",
    "newarr = np.union1d(arr1, arr2)\n",
    "print(newarr)"
   ]
  },
  {
   "cell_type": "code",
   "execution_count": 59,
   "id": "bc144e67-6b1e-4ded-bd5b-8719032e911a",
   "metadata": {},
   "outputs": [
    {
     "name": "stdout",
     "output_type": "stream",
     "text": [
      "[3 4]\n"
     ]
    }
   ],
   "source": [
    "#Find intersection of the following two set arrays:\n",
    "import numpy as np\n",
    "arr1 = np.array([1, 2, 3, 4])\n",
    "arr2 = np.array([3, 4, 5, 6])\n",
    "newarr = np.intersect1d(arr1, arr2, assume_unique=True)\n",
    "print(newarr)"
   ]
  },
  {
   "cell_type": "code",
   "execution_count": 60,
   "id": "4c8c4056-84e6-47d7-8a1f-b443892fc8aa",
   "metadata": {},
   "outputs": [
    {
     "name": "stdout",
     "output_type": "stream",
     "text": [
      "[1 2]\n"
     ]
    }
   ],
   "source": [
    "#Find the difference of the set1 from set2:\n",
    "import numpy as np\n",
    "set1 = np.array([1, 2, 3, 4])\n",
    "set2 = np.array([3, 4, 5, 6])\n",
    "newarr = np.setdiff1d(set1, set2, assume_unique=True)\n",
    "print(newarr)"
   ]
  },
  {
   "cell_type": "code",
   "execution_count": 61,
   "id": "d92894a5-2cb9-4bdd-af53-fd4acfdfe6a2",
   "metadata": {},
   "outputs": [
    {
     "name": "stdout",
     "output_type": "stream",
     "text": [
      "[1 2 5 6]\n"
     ]
    }
   ],
   "source": [
    "#Find the symmetric difference of the set1 and set2:\n",
    "import numpy as np\n",
    "set1 = np.array([1, 2, 3, 4])\n",
    "set2 = np.array([3, 4, 5, 6])\n",
    "newarr = np.setxor1d(set1, set2, assume_unique=True)\n",
    "print(newarr)"
   ]
  }
 ],
 "metadata": {
  "kernelspec": {
   "display_name": "Python 3 (ipykernel)",
   "language": "python",
   "name": "python3"
  },
  "language_info": {
   "codemirror_mode": {
    "name": "ipython",
    "version": 3
   },
   "file_extension": ".py",
   "mimetype": "text/x-python",
   "name": "python",
   "nbconvert_exporter": "python",
   "pygments_lexer": "ipython3",
   "version": "3.11.7"
  }
 },
 "nbformat": 4,
 "nbformat_minor": 5
}
