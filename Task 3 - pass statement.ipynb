{
 "cells": [
  {
   "cell_type": "markdown",
   "id": "496f8fc4-0b91-4747-ad0e-e3dba67f2cb1",
   "metadata": {},
   "source": [
    "The 'pass' statement in python is like a placeholder that does nothing when it is executed. It is often used when a statement is syntactically required but you don't want to execute any code or if you plan to implement the code later. "
   ]
  },
  {
   "cell_type": "code",
   "execution_count": 4,
   "id": "f65107a4-5bef-444a-b4fc-1331890eab1a",
   "metadata": {},
   "outputs": [],
   "source": [
    "for i in range(1,6):\n",
    "    if i<6:\n",
    "        pass"
   ]
  },
  {
   "cell_type": "code",
   "execution_count": 6,
   "id": "0341bfa4-5fb2-4b1e-b30f-db34579af269",
   "metadata": {},
   "outputs": [],
   "source": [
    "x=27\n",
    "if x<8:\n",
    "    pass"
   ]
  },
  {
   "cell_type": "code",
   "execution_count": 10,
   "id": "0a78160e-ddea-4c6d-8108-81a06c62b566",
   "metadata": {},
   "outputs": [],
   "source": [
    "if x>25 and x<50:\n",
    "    pass"
   ]
  }
 ],
 "metadata": {
  "kernelspec": {
   "display_name": "Python 3 (ipykernel)",
   "language": "python",
   "name": "python3"
  },
  "language_info": {
   "codemirror_mode": {
    "name": "ipython",
    "version": 3
   },
   "file_extension": ".py",
   "mimetype": "text/x-python",
   "name": "python",
   "nbconvert_exporter": "python",
   "pygments_lexer": "ipython3",
   "version": "3.11.7"
  }
 },
 "nbformat": 4,
 "nbformat_minor": 5
}
