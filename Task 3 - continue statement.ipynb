{
 "cells": [
  {
   "cell_type": "markdown",
   "id": "73b3a2e3-80f7-4c0c-ad47-a27cd347867f",
   "metadata": {},
   "source": [
    "The 'continue' statement in Python is used to skip the rest of the code inside the loop for the current iteration and move to the next iteration.When Python encounters 'continue' statement, it stops the current iteration and goes back to the beginning of the loop for the next iteration."
   ]
  },
  {
   "cell_type": "code",
   "execution_count": 1,
   "id": "a69c1a4b-ffbf-47af-a545-1e9f15bb21dc",
   "metadata": {},
   "outputs": [
    {
     "name": "stdout",
     "output_type": "stream",
     "text": [
      "1\n",
      "2\n",
      "4\n",
      "5\n"
     ]
    }
   ],
   "source": [
    "for i in range(1,6):\n",
    "    if i==3:\n",
    "        continue\n",
    "    print(i)     "
   ]
  },
  {
   "cell_type": "code",
   "execution_count": 3,
   "id": "b5c3c591-9c9b-4dcb-99d3-f6fef7e53ddf",
   "metadata": {},
   "outputs": [
    {
     "name": "stdout",
     "output_type": "stream",
     "text": [
      "1\n",
      "3\n",
      "5\n",
      "7\n",
      "9\n"
     ]
    }
   ],
   "source": [
    "for i in range(1,11):\n",
    "    if i%2==0:\n",
    "        continue\n",
    "    print(i)"
   ]
  },
  {
   "cell_type": "code",
   "execution_count": 8,
   "id": "ca22dffb-2486-4865-96c3-1a79a0456983",
   "metadata": {},
   "outputs": [
    {
     "name": "stdout",
     "output_type": "stream",
     "text": [
      "name:Vishakha\n",
      "city:Satara\n"
     ]
    }
   ],
   "source": [
    "d={\"name\":\"Vishakha\",\"Roll no\":None, \"city\":\"Satara\"}\n",
    "for key,value in d.items():\n",
    "    if value==None:\n",
    "        continue\n",
    "    print(f\"{key}:{value}\")"
   ]
  }
 ],
 "metadata": {
  "kernelspec": {
   "display_name": "Python 3 (ipykernel)",
   "language": "python",
   "name": "python3"
  },
  "language_info": {
   "codemirror_mode": {
    "name": "ipython",
    "version": 3
   },
   "file_extension": ".py",
   "mimetype": "text/x-python",
   "name": "python",
   "nbconvert_exporter": "python",
   "pygments_lexer": "ipython3",
   "version": "3.11.7"
  }
 },
 "nbformat": 4,
 "nbformat_minor": 5
}
