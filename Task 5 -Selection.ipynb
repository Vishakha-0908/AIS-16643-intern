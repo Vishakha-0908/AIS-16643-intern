{
 "cells": [
  {
   "cell_type": "code",
   "execution_count": 9,
   "id": "3fcb2d9a-c9e3-4589-abad-afa98e93538d",
   "metadata": {},
   "outputs": [
    {
     "name": "stdout",
     "output_type": "stream",
     "text": [
      "0    25\n",
      "1    30\n",
      "2    35\n",
      "3    40\n",
      "Name: Age, dtype: int64\n",
      "      Name  Gender\n",
      "0    Alice  Female\n",
      "1      Bob    Male\n",
      "2  Charlie    Male\n",
      "3    David    Male\n",
      "      Name  Age Gender\n",
      "1      Bob   30   Male\n",
      "2  Charlie   35   Male\n",
      "3    David   40   Male\n"
     ]
    }
   ],
   "source": [
    "#Selection\n",
    "import pandas as pd\n",
    "\n",
    "# Create a sample DataFrame\n",
    "data = {'Name': ['Alice', 'Bob', 'Charlie', 'David'],\n",
    "        'Age': [25, 30, 35, 40],\n",
    "        'Gender': ['Female', 'Male', 'Male', 'Male']}\n",
    "\n",
    "df = pd.DataFrame(data)\n",
    "\n",
    "# Selecting a single column\n",
    "ages = df['Age']\n",
    "print(ages)\n",
    "\n",
    "# Selecting multiple columns\n",
    "subset = df[['Name', 'Gender']]\n",
    "print(subset)\n",
    "\n",
    "# Selecting rows based on a condition\n",
    "male_records = df[df['Gender']=='Male']\n",
    "print(male_records)\n",
    "\n",
    "\n"
   ]
  },
  {
   "cell_type": "code",
   "execution_count": 4,
   "id": "ca02549c-164d-4b5c-9865-374273754947",
   "metadata": {},
   "outputs": [
    {
     "name": "stdout",
     "output_type": "stream",
     "text": [
      "      Name  Age\n",
      "1      Bob   30\n",
      "2  Charlie   35\n"
     ]
    }
   ],
   "source": [
    "subset_loc = df.loc[1:2, ['Name', 'Age']]\n",
    "print(subset_loc)"
   ]
  },
  {
   "cell_type": "code",
   "execution_count": 5,
   "id": "74960e35-06f1-4bdf-ad8d-5ec27b9053d7",
   "metadata": {},
   "outputs": [
    {
     "name": "stdout",
     "output_type": "stream",
     "text": [
      "      Name  Age\n",
      "1      Bob   30\n",
      "2  Charlie   35\n"
     ]
    }
   ],
   "source": [
    "subset_iloc = df.iloc[1:3, [0, 1]]\n",
    "print(subset_iloc)"
   ]
  },
  {
   "cell_type": "code",
   "execution_count": 11,
   "id": "f4292f27-4c4b-4ea3-9706-99d57b1b04d0",
   "metadata": {},
   "outputs": [
    {
     "name": "stdout",
     "output_type": "stream",
     "text": [
      "      Name  Age Gender\n",
      "2  Charlie   35   Male\n",
      "3    David   40   Male\n"
     ]
    }
   ],
   "source": [
    "#Condition selection\n",
    "selected_rows=df[df[\"Age\"]>30]\n",
    "print(selected_rows)"
   ]
  },
  {
   "cell_type": "code",
   "execution_count": 19,
   "id": "89647e71-ef80-4c67-a1e4-256ec9fe33b4",
   "metadata": {},
   "outputs": [
    {
     "data": {
      "text/plain": [
       "Name       Alice\n",
       "Age           25\n",
       "Gender    Female\n",
       "Name: 0, dtype: object"
      ]
     },
     "execution_count": 19,
     "metadata": {},
     "output_type": "execute_result"
    }
   ],
   "source": [
    "selected_col=df.iloc[0]#Selecting row\n",
    "selected_col"
   ]
  },
  {
   "cell_type": "code",
   "execution_count": 22,
   "id": "2d27c44d-e10d-4033-98a3-2b19e002f58e",
   "metadata": {},
   "outputs": [
    {
     "data": {
      "text/plain": [
       "Age         30\n",
       "Gender    Male\n",
       "Name: Bob, dtype: object"
      ]
     },
     "execution_count": 22,
     "metadata": {},
     "output_type": "execute_result"
    }
   ],
   "source": [
    "bob=df.set_index(\"Name\")\n",
    "row=bob.loc[\"Bob\"]\n",
    "row"
   ]
  },
  {
   "cell_type": "code",
   "execution_count": 28,
   "id": "1d21fcfa-66cc-47dd-9d87-3c34d368e544",
   "metadata": {},
   "outputs": [
    {
     "name": "stdout",
     "output_type": "stream",
     "text": [
      "      Name  Age  Gender\n",
      "0    Alice   25  Female\n",
      "1      Bob   30    male\n",
      "2  Charlie   35    Male\n",
      "3    David   40    Male\n"
     ]
    }
   ],
   "source": [
    "import pandas as pd\n",
    "data = {'Name': ['Alice', 'Bob', 'Charlie', 'David'],\n",
    "        'Age': [25, 30, 35, 40],\n",
    "        }\n",
    "\n",
    "df = pd.DataFrame(data)\n",
    "df[\"Gender\"]=[\"Female\",\"male\",\"Male\",\"Male\"]\n",
    "print(df)"
   ]
  },
  {
   "cell_type": "code",
   "execution_count": 29,
   "id": "625bce01-acf6-432d-aec5-3ff5e6d14fd8",
   "metadata": {},
   "outputs": [
    {
     "name": "stdout",
     "output_type": "stream",
     "text": [
      "      Name  Age\n",
      "0    Alice   25\n",
      "1      Bob   30\n",
      "2  Charlie   35\n",
      "3    David   40\n"
     ]
    }
   ],
   "source": [
    "df.drop(\"Gender\",axis=1,inplace=True)\n",
    "print(df)"
   ]
  },
  {
   "cell_type": "code",
   "execution_count": 30,
   "id": "b573675a-aad1-40ca-9ae3-79d2510cdbfa",
   "metadata": {},
   "outputs": [
    {
     "name": "stdout",
     "output_type": "stream",
     "text": [
      "      Name  Age\n",
      "0    Alice   44\n",
      "1      Bob   22\n",
      "2  Charlie   34\n",
      "3    David   32\n"
     ]
    }
   ],
   "source": [
    "df[\"Age\"]=[44,22,34,32]\n",
    "print(df)"
   ]
  },
  {
   "cell_type": "code",
   "execution_count": 36,
   "id": "fa219437-cd7a-4f1e-8a86-ec13cdfa96ff",
   "metadata": {},
   "outputs": [
    {
     "name": "stdout",
     "output_type": "stream",
     "text": [
      "         Age\n",
      "Name        \n",
      "Alice     25\n",
      "Bob       30\n",
      "Charlie   35\n"
     ]
    }
   ],
   "source": [
    "import pandas as pd\n",
    "\n",
    "# Create a sample DataFrame\n",
    "data = {'Name': ['Alice', 'Bob', 'Charlie'],\n",
    "        'Age': [25, 30, 35]}\n",
    "\n",
    "df = pd.DataFrame(data)\n",
    "\n",
    "# Set 'Name' column as the index\n",
    "df.set_index('Name', inplace=True)#Gives \"Name\" an index\n",
    "print(df)"
   ]
  },
  {
   "cell_type": "code",
   "execution_count": 39,
   "id": "cbcda5d2-fb9c-4e6b-b2ae-bfb4c6f8d301",
   "metadata": {},
   "outputs": [
    {
     "name": "stdout",
     "output_type": "stream",
     "text": [
      "   level_0  index     Name  Age\n",
      "0        0      0    Alice   25\n",
      "1        1      1      Bob   30\n",
      "2        2      2  Charlie   35\n"
     ]
    }
   ],
   "source": [
    "#Remove index\n",
    "df.reset_index(inplace=True)\n",
    "print(df)"
   ]
  },
  {
   "cell_type": "code",
   "execution_count": 40,
   "id": "1a897e2a-b60a-43e3-9d7e-55d9223aadb2",
   "metadata": {},
   "outputs": [
    {
     "name": "stdout",
     "output_type": "stream",
     "text": [
      "   A  B   C  D   E         F      G\n",
      "0  1  5   6 -4   5  0.200000      1\n",
      "1  2  6   8 -4  12  0.333333     64\n",
      "2  3  7  10 -4  21  0.428571   2187\n",
      "3  4  8  12 -4  32  0.500000  65536\n"
     ]
    }
   ],
   "source": [
    "import pandas as pd\n",
    "\n",
    "# Create a sample DataFrame\n",
    "data = {'A': [1, 2, 3, 4],\n",
    "        'B': [5, 6, 7, 8]}\n",
    "\n",
    "df = pd.DataFrame(data)\n",
    "\n",
    "# Perform arithmetic operations between columns\n",
    "# Addition\n",
    "df['C'] = df['A'] + df['B']\n",
    "\n",
    "# Subtraction\n",
    "df['D'] = df['A'] - df['B']\n",
    "\n",
    "# Multiplication\n",
    "df['E'] = df['A'] * df['B']\n",
    "\n",
    "# Division\n",
    "df['F'] = df['A'] / df['B']\n",
    "\n",
    "# Exponentiation\n",
    "df['G'] = df['A'] ** df['B']\n",
    "\n",
    "print(df)"
   ]
  },
  {
   "cell_type": "code",
   "execution_count": null,
   "id": "a8670a4b-52e1-4bf3-b2d0-e5748868947d",
   "metadata": {},
   "outputs": [],
   "source": []
  }
 ],
 "metadata": {
  "kernelspec": {
   "display_name": "Python 3 (ipykernel)",
   "language": "python",
   "name": "python3"
  },
  "language_info": {
   "codemirror_mode": {
    "name": "ipython",
    "version": 3
   },
   "file_extension": ".py",
   "mimetype": "text/x-python",
   "name": "python",
   "nbconvert_exporter": "python",
   "pygments_lexer": "ipython3",
   "version": "3.11.7"
  }
 },
 "nbformat": 4,
 "nbformat_minor": 5
}
