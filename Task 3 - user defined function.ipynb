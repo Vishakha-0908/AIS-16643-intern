{
 "cells": [
  {
   "cell_type": "code",
   "execution_count": 19,
   "id": "695f2cad-06a3-4745-83a1-90c6d0528fc3",
   "metadata": {},
   "outputs": [
    {
     "name": "stdin",
     "output_type": "stream",
     "text": [
      "Enter a number: 5\n"
     ]
    },
    {
     "name": "stdout",
     "output_type": "stream",
     "text": [
      "Factorial of 5 is 120\n"
     ]
    }
   ],
   "source": [
    "#logical user defined functions\n",
    "def factorial(n):\n",
    "    fact=1\n",
    "    for i in range(1,n+1):\n",
    "        fact=fact*i\n",
    "    return fact\n",
    "num=int(input(\"Enter a number:\"))\n",
    "f=factorial(num)\n",
    "print(\"Factorial of\",num,\"is\",f)"
   ]
  },
  {
   "cell_type": "code",
   "execution_count": 7,
   "id": "ba8ba5cd-e41e-4b8d-9949-3e901bd94fba",
   "metadata": {},
   "outputs": [
    {
     "name": "stdin",
     "output_type": "stream",
     "text": [
      "Enter a string: string\n"
     ]
    },
    {
     "name": "stdout",
     "output_type": "stream",
     "text": [
      "Number of vowels are 1\n"
     ]
    }
   ],
   "source": [
    "def count_vowel(str):\n",
    "    c=0\n",
    "    vowels=\"AEIOUaeiou\"\n",
    "    for char in str:\n",
    "        if char in vowels:\n",
    "            c+=1\n",
    "\n",
    "    return c\n",
    "s=input(\"Enter a string:\")\n",
    "number_of_vowels=count_vowel(s)\n",
    "print(\"Number of vowels are\",number_of_vowels)"
   ]
  },
  {
   "cell_type": "code",
   "execution_count": 14,
   "id": "0534c9aa-b394-4849-9482-ec3e96faa4b8",
   "metadata": {},
   "outputs": [
    {
     "name": "stdout",
     "output_type": "stream",
     "text": [
      "Maximum number is 42\n"
     ]
    }
   ],
   "source": [
    "def maximum(num):\n",
    "    m=num[0]\n",
    "    for i in num:\n",
    "        if i>m:\n",
    "            m=i\n",
    "    return m\n",
    "numbers=[5,8,42,8,5,3,12]\n",
    "max=maximum(numbers)\n",
    "print(\"Maximum number is\",max)"
   ]
  },
  {
   "cell_type": "code",
   "execution_count": 17,
   "id": "2e3571a9-426a-4a61-be7e-06ba16094816",
   "metadata": {},
   "outputs": [
    {
     "name": "stdin",
     "output_type": "stream",
     "text": [
      "Enter a number: 67\n"
     ]
    },
    {
     "name": "stdout",
     "output_type": "stream",
     "text": [
      "prime no.\n"
     ]
    }
   ],
   "source": [
    "def prime(num):\n",
    "    if num<=1:\n",
    "        return \"not prime\"\n",
    "    else:\n",
    "        i=2\n",
    "        while i<num:\n",
    "            if num%i==0:\n",
    "                return \"not prime\"\n",
    "            else:\n",
    "                return \"prime no.\"\n",
    "            i+=1\n",
    "n=num=int(input(\"Enter a number:\"))\n",
    "print(prime(n))"
   ]
  },
  {
   "cell_type": "code",
   "execution_count": 18,
   "id": "322aa408-33aa-4164-ae06-cdd22daae4ba",
   "metadata": {},
   "outputs": [
    {
     "name": "stdin",
     "output_type": "stream",
     "text": [
      "Enter radius: 5\n"
     ]
    },
    {
     "name": "stdout",
     "output_type": "stream",
     "text": [
      "78.5\n"
     ]
    }
   ],
   "source": [
    "def area(r):\n",
    "    pi=3.14\n",
    "    a=pi*r*r\n",
    "    return a\n",
    "radius=int(input(\"Enter radius:\"))\n",
    "print(area(radius))"
   ]
  },
  {
   "cell_type": "code",
   "execution_count": 21,
   "id": "dc768f14-7ce8-4111-a5c4-706b4d4caf00",
   "metadata": {},
   "outputs": [
    {
     "name": "stdin",
     "output_type": "stream",
     "text": [
      "Enter a number: 87\n"
     ]
    },
    {
     "name": "stdout",
     "output_type": "stream",
     "text": [
      "87 is odd number\n"
     ]
    }
   ],
   "source": [
    "def ev_odd(n):\n",
    "    if n%2==0:\n",
    "        return \"Even number\"\n",
    "    else:\n",
    "        return \"odd number\"\n",
    "num=int(input(\"Enter a number:\"))\n",
    "ans=ev_odd(num)\n",
    "print(num,\"is\",ans)"
   ]
  },
  {
   "cell_type": "code",
   "execution_count": 34,
   "id": "979e4a49-da44-4c89-b70c-3f73213e1f3c",
   "metadata": {},
   "outputs": [
    {
     "name": "stdin",
     "output_type": "stream",
     "text": [
      "enter base 2\n",
      "enter height 5\n"
     ]
    },
    {
     "name": "stdout",
     "output_type": "stream",
     "text": [
      "Area of triangle is 5.0\n"
     ]
    }
   ],
   "source": [
    "def cal_area(b,h):\n",
    "    area=0.5*b*h\n",
    "    return area\n",
    "base=int(input(\"enter base\"))\n",
    "height=int(input(\"enter height\"))\n",
    "print(\"Area of triangle is\",cal_area(base,height))"
   ]
  },
  {
   "cell_type": "code",
   "execution_count": 33,
   "id": "0200167a-8830-412c-b90e-2473a9c1a9ea",
   "metadata": {},
   "outputs": [
    {
     "name": "stdin",
     "output_type": "stream",
     "text": [
      "enter a number: 3\n"
     ]
    },
    {
     "name": "stdout",
     "output_type": "stream",
     "text": [
      "cube is 27\n"
     ]
    }
   ],
   "source": [
    "def cube_number(n):\n",
    "    c=n**3\n",
    "    return c\n",
    "num=int(input(\"enter a number:\"))\n",
    "print(\"cube is\",cube_number(num))"
   ]
  },
  {
   "cell_type": "code",
   "execution_count": 36,
   "id": "546a9211-c419-478d-adab-0f7fc1a5241e",
   "metadata": {},
   "outputs": [
    {
     "name": "stdin",
     "output_type": "stream",
     "text": [
      "enter a number: 4\n"
     ]
    },
    {
     "name": "stdout",
     "output_type": "stream",
     "text": [
      "square is 16\n"
     ]
    }
   ],
   "source": [
    "def sq_number(n):\n",
    "    sq=n**2\n",
    "    return sq\n",
    "num=int(input(\"enter a number:\"))\n",
    "print(\"square is\",sq_number(num))"
   ]
  },
  {
   "cell_type": "code",
   "execution_count": 37,
   "id": "730be50c-ca12-4c7e-b99b-6842b59e0262",
   "metadata": {},
   "outputs": [
    {
     "name": "stdin",
     "output_type": "stream",
     "text": [
      "enter tempt in celcius: 34\n"
     ]
    },
    {
     "name": "stdout",
     "output_type": "stream",
     "text": [
      "93.2\n"
     ]
    }
   ],
   "source": [
    "def deg_to_fahrenheit(c):\n",
    "    ans=(c*9/5)+32\n",
    "    return ans\n",
    "celsius=int(input(\"enter tempt in celcius:\"))\n",
    "print(deg_to_fahrenheit(celsius))"
   ]
  }
 ],
 "metadata": {
  "kernelspec": {
   "display_name": "Python 3 (ipykernel)",
   "language": "python",
   "name": "python3"
  },
  "language_info": {
   "codemirror_mode": {
    "name": "ipython",
    "version": 3
   },
   "file_extension": ".py",
   "mimetype": "text/x-python",
   "name": "python",
   "nbconvert_exporter": "python",
   "pygments_lexer": "ipython3",
   "version": "3.11.7"
  }
 },
 "nbformat": 4,
 "nbformat_minor": 5
}
